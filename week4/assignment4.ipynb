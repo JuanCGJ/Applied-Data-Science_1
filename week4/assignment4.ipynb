{
 "cells": [
  {
   "cell_type": "markdown",
   "metadata": {
    "deletable": false,
    "editable": false,
    "nbgrader": {
     "checksum": "48770f8b5f5d3062d3badd51fcafc401",
     "grade": false,
     "grade_id": "cell-a6c4f74309fc2379",
     "locked": true,
     "schema_version": 1,
     "solution": false
    }
   },
   "source": [
    "# Assignment 4\n",
    "## Description\n",
    "In this assignment you must read in a file of metropolitan regions and associated sports teams from [assets/wikipedia_data.html](assets/wikipedia_data.html) and answer some questions about each metropolitan region. Each of these regions may have one or more teams from the \"Big 4\": NFL (football, in [assets/nfl.csv](assets/nfl.csv)), MLB (baseball, in [assets/mlb.csv](assets/mlb.csv)), NBA (basketball, in [assets/nba.csv](assets/nba.csv) or NHL (hockey, in [assets/nhl.csv](assets/nhl.csv)). Please keep in mind that all questions are from the perspective of the metropolitan region, and that this file is the \"source of authority\" for the location of a given sports team. Thus teams which are commonly known by a different area (e.g. \"Oakland Raiders\") need to be mapped into the metropolitan region given (e.g. San Francisco Bay Area). This will require some human data understanding outside of the data you've been given (e.g. you will have to hand-code some names, and might need to google to find out where teams are)!\n",
    "\n",
    "For each sport I would like you to answer the question: **what is the win/loss ratio's correlation with the population of the city it is in?** Win/Loss ratio refers to the number of wins over the number of wins plus the number of losses. Remember that to calculate the correlation with [`pearsonr`](https://docs.scipy.org/doc/scipy/reference/generated/scipy.stats.pearsonr.html), so you are going to send in two ordered lists of values, the populations from the wikipedia_data.html file and the win/loss ratio for a given sport in the same order. Average the win/loss ratios for those cities which have multiple teams of a single sport. Each sport is worth an equal amount in this assignment (20%\\*4=80%) of the grade for this assignment. You should only use data **from year 2018** for your analysis -- this is important!\n",
    "\n",
    "## Notes\n",
    "\n",
    "1. Do not include data about the MLS or CFL in any of the work you are doing, we're only interested in the Big 4 in this assignment.\n",
    "2. I highly suggest that you first tackle the four correlation questions in order, as they are all similar and worth the majority of grades for this assignment. This is by design!\n",
    "3. It's fair game to talk with peers about high level strategy as well as the relationship between metropolitan areas and sports teams. However, do not post code solving aspects of the assignment (including such as dictionaries mapping areas to teams, or regexes which will clean up names).\n",
    "4. There may be more teams than the assert statements test, remember to collapse multiple teams in one city into a single value!"
   ]
  },
  {
   "cell_type": "markdown",
   "metadata": {
    "deletable": false,
    "editable": false,
    "nbgrader": {
     "checksum": "369ff9ecf0ee04640574205cbc697f94",
     "grade": false,
     "grade_id": "cell-712b2b5da63d4505",
     "locked": true,
     "schema_version": 1,
     "solution": false
    }
   },
   "source": [
    "## Question 1\n",
    "For this question, calculate the win/loss ratio's correlation with the population of the city it is in for the **NHL** using **2018** data."
   ]
  },
  {
   "cell_type": "code",
   "execution_count": 5,
   "metadata": {
    "deletable": false,
    "nbgrader": {
     "checksum": "1cac4803b02502929f5b1612d48db2b5",
     "grade": false,
     "grade_id": "cell-69b16e4386e58030",
     "locked": false,
     "schema_version": 1,
     "solution": true
    }
   },
   "outputs": [
    {
     "data": {
      "text/plain": [
       "0.012486162921209909"
      ]
     },
     "execution_count": 5,
     "metadata": {},
     "output_type": "execute_result"
    }
   ],
   "source": [
    "def nhl_correlation(): \n",
    "    \n",
    "    import pandas as pd\n",
    "    import numpy as np\n",
    "    import scipy.stats as stats\n",
    "    import re\n",
    "    import pprint\n",
    "\n",
    "    cities=pd.read_html(\"assets/wikipedia_data.html\")[1]\n",
    "    cities=cities.iloc[:-1,[0,3,5,6,7,8]]                   #cargo las columnas que necesito\n",
    "    cities.replace('\\[\\w.*\\]','', regex=True, inplace=True) # reemplazo [] por espacio ''\n",
    "    cities.replace('—',0, regex=True, inplace=True)         # reemplazo — por 0 = NaN\n",
    "    cities.replace('',0, regex=True, inplace=True)          # reemplazo '' por 0 = NaN\n",
    "    cities['NHL']=cities['NHL'].str.strip()                 # retiro espacios\n",
    "    cities['NFL']=cities['NFL'].str.strip()\n",
    "    cities['MLB']=cities['MLB'].str.strip()\n",
    "    cities['NBA']=cities['NBA'].str.strip()\n",
    "    copy_NHL=cities[['Metropolitan area','NHL','Population (2016 est.)[8]']].dropna()\n",
    "    copy_NHL.sort_values(by=['NHL'], inplace=True)\n",
    "    copy_NHL['Population (2016 est.)[8]']=copy_NHL['Population (2016 est.)[8]'].astype('int64')\n",
    "\n",
    "    population_by_region=copy_NHL['Population (2016 est.)[8]']\n",
    "  \n",
    "\n",
    "\n",
    "    nhl_df=pd.read_csv(\"assets/nhl.csv\")\n",
    "    nhl_df=nhl_df.iloc[:35,[0,2,3,13,14]] #cargo las columnas que necesito\n",
    "    nhl_df=nhl_df.drop(nhl_df.index[[0, 9, 18, 26]], axis=0) #elimino filas que no necesito\n",
    "    nhl_df['team'].replace(\"\\*\",'',inplace=True,regex=True)  # reemplazo * por espacio\"\n",
    "    nhl_df['team'].replace(\"[\\D].*\\s\",'',inplace=True,regex=True)\n",
    "    nhl_df['team'].replace({'Knights' : 'Golden Knights', 'Jackets': 'Blue Jackets', 'Leafs': 'Maple Leafs', 'Wings': 'Red Wings' }, inplace=True)\n",
    "    nhl_df['team']=nhl_df['team'].str.strip()                #retiro espacios\n",
    "    nhl_df['W']=nhl_df['W'].astype('int64')                  #convierto columna str a int para poder dividir\n",
    "    nhl_df['L']=nhl_df['L'].astype('int64')                  #convierto columna str a int para poder dividir\n",
    "    nhl_df['W/L Ratio']=nhl_df['W']/(nhl_df['W']+nhl_df['L'])  #convierto columna str a int\n",
    "    nhl_df=nhl_df.drop(nhl_df.columns[[1, 2, 3, 4]], axis=1) #elimino columnas que no necesito\n",
    "    nhl_df['team'].replace({'Rangers' : 'RangersIslandersDevils'}, inplace=True)\n",
    "    nhl_df.iloc[15,1]=(nhl_df.iloc[15,1]+nhl_df.iloc[14,1]+nhl_df.iloc[12,1])/3     #RangersIslandersDevils promedio de los 3\n",
    "    nhl_df=nhl_df.drop(nhl_df.index[[14, 12]], axis=0)                              #elimino filas Islanders y Devils\n",
    "    nhl_df['team'].replace({'Kings' : 'KingsDucks'}, inplace=True)\n",
    "    nhl_df.iloc[24,1]=(nhl_df.iloc[24,1]+nhl_df.iloc[22,1])/2     #KingsDucks promedio de los 2\n",
    "    nhl_df=nhl_df.drop(nhl_df.index[[22]], axis=0)\n",
    "    nhl_df.sort_values(by=['team'], inplace=True)\n",
    "\n",
    "    win_loss_by_region = nhl_df['W/L Ratio']\n",
    "    \n",
    "    corr, pval= stats.pearsonr(population_by_region, win_loss_by_region)\n",
    "    \n",
    "    \n",
    "\n",
    "    assert len(population_by_region) == len(win_loss_by_region), \"Q1: Your lists must be the same length\"\n",
    "    assert len(population_by_region) == 28, \"Q1: There should be 28 teams being analysed for NHL\"\n",
    "    \n",
    "    \n",
    "    return corr\n",
    "nhl_correlation()"
   ]
  },
  {
   "cell_type": "code",
   "execution_count": null,
   "metadata": {
    "deletable": false,
    "editable": false,
    "nbgrader": {
     "checksum": "52a581df513c71153e105b93764cda4b",
     "grade": true,
     "grade_id": "cell-ebe0b2dfe1067e63",
     "locked": true,
     "points": 20,
     "schema_version": 1,
     "solution": false
    }
   },
   "outputs": [],
   "source": []
  },
  {
   "cell_type": "markdown",
   "metadata": {
    "deletable": false,
    "editable": false,
    "nbgrader": {
     "checksum": "988912cae4968d81473f46d783e79c16",
     "grade": false,
     "grade_id": "cell-cb964e690298b71d",
     "locked": true,
     "schema_version": 1,
     "solution": false
    }
   },
   "source": [
    "## Question 2\n",
    "For this question, calculate the win/loss ratio's correlation with the population of the city it is in for the **NBA** using **2018** data."
   ]
  },
  {
   "cell_type": "code",
   "execution_count": 8,
   "metadata": {
    "deletable": false,
    "nbgrader": {
     "checksum": "9394222aafc8ccab0a228098ba0d6010",
     "grade": false,
     "grade_id": "cell-5a5f21279e3d3572",
     "locked": false,
     "schema_version": 1,
     "solution": true
    }
   },
   "outputs": [
    {
     "name": "stdout",
     "output_type": "stream",
     "text": [
      "-0.17636350642182938\n"
     ]
    },
    {
     "data": {
      "text/plain": [
       "-0.17636350642182938"
      ]
     },
     "execution_count": 8,
     "metadata": {},
     "output_type": "execute_result"
    }
   ],
   "source": [
    "def nba_correlation():\n",
    "    import pandas as pd\n",
    "    import numpy as np\n",
    "    import scipy.stats as stats\n",
    "    import re\n",
    "\n",
    "    cities=pd.read_html(\"assets/wikipedia_data.html\")[1]\n",
    "    cities=cities.iloc[:-1,[0,3,5,6,7,8]]\n",
    "    cities.replace('\\[\\w.*\\]','', regex=True, inplace=True) # reemplazo [] por espacio ''\n",
    "    cities.replace('—',0, regex=True, inplace=True)         # reemplazo — por 0 = NaN\n",
    "    cities.replace('',0, regex=True, inplace=True)          # reemplazo '' por 0 = NaN\n",
    "    cities['NBA']=cities['NBA'].str.strip()\n",
    "    copy_NBA=cities[['Metropolitan area','NBA','Population (2016 est.)[8]']].dropna()\n",
    "    copy_NBA.sort_values(by=['NBA'], inplace=True)\n",
    "\n",
    "    copy_NBA['Population (2016 est.)[8]']=copy_NBA['Population (2016 est.)[8]'].astype('int64')\n",
    "\n",
    "\n",
    "    population_by_region=copy_NBA['Population (2016 est.)[8]']\n",
    "\n",
    "    nba_df=pd.read_csv(\"assets/nba.csv\")\n",
    "\n",
    "    nba_df=nba_df.iloc[:30,[0,3]] #cargo las columnas que necesito\n",
    "    # nba_df['W/L%']=nba_df['W/L%'].astype('int64')\n",
    "    nba_df.rename(columns={\"W/L%\": \"W/L Ratio\"}, inplace=True)\n",
    "    nba_df['W/L Ratio']=nba_df['W/L Ratio'].astype('float64')\n",
    "    nba_df.replace('\\(\\d.*\\)','', regex=True, inplace=True) # reemplazo () por espacio ''\n",
    "    nba_df.replace('\\*','', regex=True, inplace=True) # reemplazo () por espacio ''\n",
    "    nba_df['team']=nba_df['team'].str.strip()\n",
    "    nba_df['team'].replace(\"[\\D].*\\s\",'',inplace=True,regex=True)\n",
    "\n",
    "\n",
    "    nba_df['team'].replace({'Blazers' : 'Trail Blazers', 'Clippers': 'LakersClippers', 'Knicks': 'KnicksNets'}, inplace=True)\n",
    "    nba_df.iloc[24,1]=(nba_df.iloc[24,1]+nba_df.iloc[25,1])/2     #KingsDucks promedio de los 2\n",
    "    nba_df.iloc[10,1]=(nba_df.iloc[10,1]+nba_df.iloc[11,1])/2     #KingsDucks promedio de los 2\n",
    "    nba_df=nba_df.drop(nba_df.index[[11, 25]], axis=0)\n",
    "    nba_df.sort_values(by=['team'], inplace=True)\n",
    "\n",
    "    win_loss_by_region = nba_df['W/L Ratio']\n",
    "    corr, pval= stats.pearsonr(population_by_region, win_loss_by_region)\n",
    "    print(corr)\n",
    "    return corr\n",
    "nba_correlation()"
   ]
  },
  {
   "cell_type": "code",
   "execution_count": null,
   "metadata": {
    "deletable": false,
    "editable": false,
    "nbgrader": {
     "checksum": "bbdeb8eb22f525a34c10dc8798324e42",
     "grade": true,
     "grade_id": "cell-e573b2b4a282b470",
     "locked": true,
     "points": 20,
     "schema_version": 1,
     "solution": false
    }
   },
   "outputs": [],
   "source": []
  },
  {
   "cell_type": "markdown",
   "metadata": {
    "deletable": false,
    "editable": false,
    "nbgrader": {
     "checksum": "1a1a5809f675ca033086422007cd73bd",
     "grade": false,
     "grade_id": "cell-96e15e4335df78f4",
     "locked": true,
     "schema_version": 1,
     "solution": false
    }
   },
   "source": [
    "## Question 3\n",
    "For this question, calculate the win/loss ratio's correlation with the population of the city it is in for the **MLB** using **2018** data."
   ]
  },
  {
   "cell_type": "code",
   "execution_count": 1,
   "metadata": {
    "deletable": false,
    "nbgrader": {
     "checksum": "27e8c0da6c9fa0dffc10488314335b6c",
     "grade": false,
     "grade_id": "cell-33b00fc3f3467b0c",
     "locked": false,
     "schema_version": 1,
     "solution": true
    }
   },
   "outputs": [
    {
     "name": "stdout",
     "output_type": "stream",
     "text": [
      "0.1502769830266931\n"
     ]
    },
    {
     "data": {
      "text/plain": [
       "0.1502769830266931"
      ]
     },
     "execution_count": 1,
     "metadata": {},
     "output_type": "execute_result"
    }
   ],
   "source": [
    "def mlb_correlation():\n",
    "    import pandas as pd\n",
    "    import numpy as np\n",
    "    import scipy.stats as stats\n",
    "    import re\n",
    "\n",
    "    cities=pd.read_html(\"assets/wikipedia_data.html\")[1]\n",
    "    cities=cities.iloc[:-1,[0,3,5,6,7,8]]\n",
    "    cities.replace('\\[\\w.*\\]','', regex=True, inplace=True) # reemplazo [] por espacio ''\n",
    "    cities.replace('—',0, regex=True, inplace=True)         # reemplazo — por 0 = NaN\n",
    "    cities.replace('',0, regex=True, inplace=True)          # reemplazo '' por 0 = NaN\n",
    "    cities['MLB']=cities['MLB'].str.strip()\n",
    "    copy_MLB=cities[['Metropolitan area','MLB','Population (2016 est.)[8]']].dropna()\n",
    "    copy_MLB.sort_values(by=['MLB'], inplace=True)  #len=26\n",
    "    copy_MLB['Population (2016 est.)[8]']=copy_MLB['Population (2016 est.)[8]'].astype('int64')\n",
    "\n",
    "    population_by_region=copy_MLB['Population (2016 est.)[8]']\n",
    "\n",
    "\n",
    "    mlb_df=pd.read_csv(\"assets/mlb.csv\")\n",
    "    mlb_df=mlb_df.iloc[:30,[0,1,2]] #cargo las columnas que necesito\n",
    "    \n",
    "    mlb_df['W']=mlb_df['W'].astype('int64')                  #convierto columna str a int para poder dividir\n",
    "    mlb_df['L']=mlb_df['L'].astype('int64')                  #convierto columna str a int para poder dividir\n",
    "    mlb_df['W/L Ratio']=mlb_df['W']/(mlb_df['W']+mlb_df['L'])  #convierto columna str a int\n",
    "\n",
    "\n",
    "    mlb_df['team'].replace(\"[\\D].*\\s\",'',inplace=True,regex=True)\n",
    "    mlb_df['team']=mlb_df['team'].str.strip()\n",
    "    mlb_df.iloc[0,0]='Red Sox'\n",
    "    mlb_df.iloc[8,0]='White Sox'\n",
    "    mlb_df['team'].replace({'Yankees' : 'YankeesMets', 'Dodgers': 'DodgersAngels', 'Giants': 'GiantsAthletics', 'Cubs': 'CubsWhite Sox', 'Jays': 'Blue Jays'}, inplace=True)\n",
    "    mlb_df.iloc[1,3]=(mlb_df.iloc[1,3] + mlb_df.iloc[18,3])/2\n",
    "    mlb_df.iloc[25,3]=(mlb_df.iloc[25,3] + mlb_df.iloc[13,3])/2\n",
    "    mlb_df.iloc[28,3]=(mlb_df.iloc[28,3] + mlb_df.iloc[11,3])/2\n",
    "    mlb_df.iloc[21,3]=(mlb_df.iloc[21,3] + mlb_df.iloc[8,3])/2\n",
    "\n",
    "    mlb_df=mlb_df.drop(mlb_df.index[[18,13,11,8]], axis=0)\n",
    "    mlb_df.sort_values(by=['team'], inplace=True)\n",
    "\n",
    "    win_loss_by_region = mlb_df['W/L Ratio']\n",
    "\n",
    "    corr, pval= stats.pearsonr(population_by_region, win_loss_by_region)\n",
    "    print(corr)\n",
    "    return corr\n",
    "    \n",
    "mlb_correlation()"
   ]
  },
  {
   "cell_type": "code",
   "execution_count": null,
   "metadata": {
    "deletable": false,
    "editable": false,
    "nbgrader": {
     "checksum": "cda33b094ba19ccc37a481e0dd29e0bc",
     "grade": true,
     "grade_id": "cell-764d4476f425c5a2",
     "locked": true,
     "points": 20,
     "schema_version": 1,
     "solution": false
    }
   },
   "outputs": [],
   "source": []
  },
  {
   "cell_type": "markdown",
   "metadata": {
    "deletable": false,
    "editable": false,
    "nbgrader": {
     "checksum": "6977a6da9ed6d8b7a0b7e37bbeda709b",
     "grade": false,
     "grade_id": "cell-793df6c04dfb126e",
     "locked": true,
     "schema_version": 1,
     "solution": false
    }
   },
   "source": [
    "## Question 4\n",
    "For this question, calculate the win/loss ratio's correlation with the population of the city it is in for the **NFL** using **2018** data."
   ]
  },
  {
   "cell_type": "code",
   "execution_count": 4,
   "metadata": {
    "deletable": false,
    "nbgrader": {
     "checksum": "c4914ad1e119278ec2bd567c52640b66",
     "grade": false,
     "grade_id": "cell-8ccebc209aeec8d9",
     "locked": false,
     "schema_version": 1,
     "solution": true
    }
   },
   "outputs": [
    {
     "name": "stdout",
     "output_type": "stream",
     "text": [
      "0.004922112149349429\n"
     ]
    },
    {
     "data": {
      "text/plain": [
       "0.004922112149349429"
      ]
     },
     "execution_count": 4,
     "metadata": {},
     "output_type": "execute_result"
    }
   ],
   "source": [
    "def nfl_correlation():\n",
    "    import pandas as pd\n",
    "    import numpy as np\n",
    "    import scipy.stats as stats\n",
    "    import re\n",
    "\n",
    "    cities=pd.read_html(\"assets/wikipedia_data.html\")[1]\n",
    "    cities=cities.iloc[:-1,[0,3,5,6,7,8]]\n",
    "    cities.replace('\\[\\w.*\\]','', regex=True, inplace=True) # reemplazo [] por espacio ''\n",
    "    cities.replace('—',0, regex=True, inplace=True)         # reemplazo — por 0 = NaN\n",
    "    cities.replace('',0, regex=True, inplace=True)          # reemplazo '' por 0 = NaN\n",
    "    cities['NFL']=cities['NFL'].str.strip()\n",
    "    copy_NFL=cities[['Metropolitan area','NFL','Population (2016 est.)[8]']].dropna()\n",
    "    copy_NFL.sort_values(by=['NFL'], inplace=True)  #len=26\n",
    "    copy_NFL['Population (2016 est.)[8]']=copy_NFL['Population (2016 est.)[8]'].astype('int64')\n",
    "\n",
    " \n",
    "    population_by_region=copy_NFL['Population (2016 est.)[8]']\n",
    "\n",
    "\n",
    "    nfl_df=pd.read_csv(\"assets/nfl.csv\")\n",
    "    nfl_df=nfl_df.iloc[:40,[1,2,11,13,14]] #cargo las columnas que necesito\n",
    "    nfl_df=nfl_df.drop(nfl_df.index[[0,5,10,15,20,25,30,35]], axis=0)\n",
    "    nfl_df['W']=nfl_df['W'].astype('int64')                  #convierto columna str a int para poder dividir\n",
    "    nfl_df['L']=nfl_df['L'].astype('int64')                  #convierto columna str a int para poder dividir\n",
    "    nfl_df['W/L Ratio']=nfl_df['W']/(nfl_df['W']+ nfl_df['L'])  #convierto columna str a int\n",
    "    nfl_df.replace('\\*','', regex=True, inplace=True)\n",
    "    nfl_df.replace('\\+','', regex=True, inplace=True)\n",
    "    nfl_df['team'].replace(\"[\\D].*\\s\",'',inplace=True,regex=True)\n",
    "    nfl_df['team']=nfl_df['team'].str.strip()\n",
    "    nfl_df['team'].replace({'Giants' : 'GiantsJets', 'Rams': 'RamsChargers', '49ers': '49ersRaiders'}, inplace=True)\n",
    "    nfl_df.loc[24,('W/L Ratio')]=(nfl_df.loc[24,('W/L Ratio')] + nfl_df.loc[4,('W/L Ratio')])/2\n",
    "    nfl_df.loc[36,('W/L Ratio')]=(nfl_df.loc[36,('W/L Ratio')] + nfl_df.loc[17,('W/L Ratio')])/2\n",
    "    nfl_df.loc[38,('W/L Ratio')]=(nfl_df.loc[38,('W/L Ratio')] + nfl_df.loc[19,('W/L Ratio')])/2\n",
    "    nfl_df=nfl_df.drop([4,17,19],axis=0)\n",
    "    nfl_df.sort_values(by=['team'], inplace=True)\n",
    "\n",
    "    win_loss_by_region = nfl_df['W/L Ratio']\n",
    "\n",
    "\n",
    "    corr, pval= stats.pearsonr(population_by_region, win_loss_by_region)\n",
    "    print(corr)\n",
    "    return corr\n",
    "\n",
    "nfl_correlation()"
   ]
  },
  {
   "cell_type": "code",
   "execution_count": null,
   "metadata": {
    "deletable": false,
    "editable": false,
    "nbgrader": {
     "checksum": "e9415d6399aa49e3a1a60813afdefa3b",
     "grade": true,
     "grade_id": "cell-de7b148b9554dbda",
     "locked": true,
     "points": 20,
     "schema_version": 1,
     "solution": false
    }
   },
   "outputs": [],
   "source": []
  },
  {
   "cell_type": "markdown",
   "metadata": {
    "deletable": false,
    "editable": false,
    "nbgrader": {
     "checksum": "b02d5cd3273f561e4ae939bb2a41740c",
     "grade": false,
     "grade_id": "cell-97b49d8639e908c4",
     "locked": true,
     "schema_version": 1,
     "solution": false
    }
   },
   "source": [
    "## Question 5\n",
    "In this question I would like you to explore the hypothesis that **given that an area has two sports teams in different sports, those teams will perform the same within their respective sports**. How I would like to see this explored is with a series of paired t-tests (so use [`ttest_rel`](https://docs.scipy.org/doc/scipy/reference/generated/scipy.stats.ttest_rel.html)) between all pairs of sports. Are there any sports where we can reject the null hypothesis? Again, average values where a sport has multiple teams in one region. Remember, you will only be including, for each sport, cities which have teams engaged in that sport, drop others as appropriate. This question is worth 20% of the grade for this assignment."
   ]
  },
  {
   "cell_type": "code",
   "execution_count": null,
   "metadata": {
    "deletable": false,
    "nbgrader": {
     "checksum": "6d78c961eb66f8d8c81f06d33ae8f393",
     "grade": false,
     "grade_id": "cell-92f25f44b8d1179f",
     "locked": false,
     "schema_version": 1,
     "solution": true
    }
   },
   "outputs": [],
   "source": [
    "import pandas as pd\n",
    "import numpy as np\n",
    "import scipy.stats as stats\n",
    "import re\n",
    "\n",
    "mlb_df=pd.read_csv(\"assets/mlb.csv\")\n",
    "nhl_df=pd.read_csv(\"assets/nhl.csv\")\n",
    "nba_df=pd.read_csv(\"assets/nba.csv\")\n",
    "nfl_df=pd.read_csv(\"assets/nfl.csv\")\n",
    "cities=pd.read_html(\"assets/wikipedia_data.html\")[1]\n",
    "cities=cities.iloc[:-1,[0,3,5,6,7,8]]\n",
    "\n",
    "def sports_team_performance():\n",
    "    # YOUR CODE HERE\n",
    "    raise NotImplementedError()\n",
    "    \n",
    "    # Note: p_values is a full dataframe, so df.loc[\"NFL\",\"NBA\"] should be the same as df.loc[\"NBA\",\"NFL\"] and\n",
    "    # df.loc[\"NFL\",\"NFL\"] should return np.nan\n",
    "    sports = ['NFL', 'NBA', 'NHL', 'MLB']\n",
    "    p_values = pd.DataFrame({k:np.nan for k in sports}, index=sports)\n",
    "    \n",
    "    assert abs(p_values.loc[\"NBA\", \"NHL\"] - 0.02) <= 1e-2, \"The NBA-NHL p-value should be around 0.02\"\n",
    "    assert abs(p_values.loc[\"MLB\", \"NFL\"] - 0.80) <= 1e-2, \"The MLB-NFL p-value should be around 0.80\"\n",
    "    return p_values"
   ]
  },
  {
   "cell_type": "code",
   "execution_count": null,
   "metadata": {
    "deletable": false,
    "editable": false,
    "nbgrader": {
     "checksum": "2a596ab421a45cc01168d10e8fbb8f89",
     "grade": true,
     "grade_id": "cell-fb4b9cb5ff4570a6",
     "locked": true,
     "points": 20,
     "schema_version": 1,
     "solution": false
    }
   },
   "outputs": [],
   "source": []
  }
 ],
 "metadata": {
  "coursera": {
   "schema_names": [
    "mooc_adswpy_1_v2_assignment4"
   ]
  },
  "kernelspec": {
   "display_name": "Python 3",
   "language": "python",
   "name": "python3"
  },
  "language_info": {
   "codemirror_mode": {
    "name": "ipython",
    "version": 3
   },
   "file_extension": ".py",
   "mimetype": "text/x-python",
   "name": "python",
   "nbconvert_exporter": "python",
   "pygments_lexer": "ipython3",
   "version": "3.7.3"
  }
 },
 "nbformat": 4,
 "nbformat_minor": 4
}
