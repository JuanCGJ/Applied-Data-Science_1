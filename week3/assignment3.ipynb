{
 "cells": [
  {
   "cell_type": "markdown",
   "metadata": {
    "deletable": false,
    "editable": false,
    "nbgrader": {
     "checksum": "ab80976c194c2c1bfebb7f3a12fc4e58",
     "grade": false,
     "grade_id": "cell-018440ed2f1b6a62",
     "locked": true,
     "schema_version": 1,
     "solution": false
    }
   },
   "source": [
    "# Assignment 3\n",
    "All questions are weighted the same in this assignment. This assignment requires more individual learning then the last one did - you are encouraged to check out the [pandas documentation](http://pandas.pydata.org/pandas-docs/stable/) to find functions or methods you might not have used yet, or ask questions on [Stack Overflow](http://stackoverflow.com/) and tag them as pandas and python related. All questions are worth the same number of points except question 1 which is worth 17% of the assignment grade.\n",
    "\n",
    "**Note**: Questions 2-13 rely on your question 1 answer."
   ]
  },
  {
   "cell_type": "code",
   "execution_count": 2,
   "metadata": {},
   "outputs": [],
   "source": [
    "\n",
    "# Filter all warnings. If you would like to see the warnings, please comment the two lines below.\n",
    "#import warnings\n",
    "#warnings.filterwarnings('ignore')"
   ]
  },
  {
   "cell_type": "markdown",
   "metadata": {
    "deletable": false,
    "editable": false,
    "nbgrader": {
     "checksum": "68063b8b0783f3d8122b516e0cce5f45",
     "grade": false,
     "grade_id": "cell-7e5190c7ff1f2e42",
     "locked": true,
     "schema_version": 1,
     "solution": false
    }
   },
   "source": [
    "### Question 1\n",
    "Load the energy data from the file `assets/Energy Indicators.xls`, which is a list of indicators of [energy supply and renewable electricity production](assets/Energy%20Indicators.xls) from the [United Nations](http://unstats.un.org/unsd/environment/excel_file_tables/2013/Energy%20Indicators.xls) for the year 2013, and should be put into a DataFrame with the variable name of **Energy**.\n",
    "\n",
    "Keep in mind that this is an Excel file, and not a comma separated values file. Also, make sure to exclude the footer and header information from the datafile. The first two columns are unneccessary, so you should get rid of them, and you should change the column labels so that the columns are:\n",
    "\n",
    "`['Country', 'Energy Supply', 'Energy Supply per Capita', '% Renewable]`\n",
    "\n",
    "Convert `Energy Supply` to gigajoules (**Note: there are 1,000,000 gigajoules in a petajoule**). For all countries which have missing data (e.g. data with \"...\") make sure this is reflected as `np.NaN` values.\n",
    "\n",
    "Rename the following list of countries (for use in later questions):\n",
    "\n",
    "```\"Republic of Korea\": \"South Korea\",\n",
    "\"United States of America\": \"United States\",\n",
    "\"United Kingdom of Great Britain and Northern Ireland\": \"United Kingdom\",\n",
    "\"China, Hong Kong Special Administrative Region\": \"Hong Kong\"```\n",
    "\n",
    "There are also several countries with numbers and/or parenthesis in their name. Be sure to remove these, e.g. `'Bolivia (Plurinational State of)'` should be `'Bolivia'`.  `'Switzerland17'` should be `'Switzerland'`.\n",
    "\n",
    "Next, load the GDP data from the file `assets/world_bank.csv`, which is a csv containing countries' GDP from 1960 to 2015 from [World Bank](http://data.worldbank.org/indicator/NY.GDP.MKTP.CD). Call this DataFrame **GDP**. \n",
    "\n",
    "Make sure to skip the header, and rename the following list of countries:\n",
    "\n",
    "```\"Korea, Rep.\": \"South Korea\", \n",
    "\"Iran, Islamic Rep.\": \"Iran\",\n",
    "\"Hong Kong SAR, China\": \"Hong Kong\"```\n",
    "\n",
    "Finally, load the [Sciamgo Journal and Country Rank data for Energy Engineering and Power Technology](http://www.scimagojr.com/countryrank.php?category=2102) from the file `assets/scimagojr-3.xlsx`, which ranks countries based on their journal contributions in the aforementioned area. Call this DataFrame **ScimEn**.\n",
    "\n",
    "Join the three datasets: GDP, Energy, and ScimEn into a new dataset (using the intersection of country names). Use only the last 10 years (2006-2015) of GDP data and only the top 15 countries by Scimagojr 'Rank' (Rank 1 through 15). \n",
    "\n",
    "The index of this DataFrame should be the name of the country, and the columns should be ['Rank', 'Documents', 'Citable documents', 'Citations', 'Self-citations',\n",
    "       'Citations per document', 'H index', 'Energy Supply',\n",
    "       'Energy Supply per Capita', '% Renewable', '2006', '2007', '2008',\n",
    "       '2009', '2010', '2011', '2012', '2013', '2014', '2015'].\n",
    "\n",
    "*This function should return a DataFrame with 20 columns and 15 entries, and the rows of the DataFrame should be sorted by \"Rank\".*"
   ]
  },
  {
   "cell_type": "code",
   "execution_count": 3,
   "metadata": {
    "deletable": false,
    "nbgrader": {
     "checksum": "57e040f07954f979910eddc0f489ffe5",
     "grade": false,
     "grade_id": "cell-bce4d6f2ecdd1297",
     "locked": false,
     "schema_version": 1,
     "solution": true
    }
   },
   "outputs": [],
   "source": [
    "import numpy as np\n",
    "import re\n",
    "import pandas as pd\n",
    "\n",
    "def answer_one():\n",
    "    Energy= pd.read_excel(\"assets/Energy Indicators.xls\", sheet_name = \"Energy\")\n",
    "    Energy=Energy.drop(Energy.columns[[0, 1]], axis='columns')  #elimino columnas por su indice 0 y 1.\n",
    "    Energy=Energy.drop(range(0,17,1), axis=0)                   #eliino rango de filas 0 a 17 (header)\n",
    "    Energy=Energy.drop(range(244,282,1), axis=0)                #eliino rango de filas 244 a 282 (footer)\n",
    "    Energy.columns = ['Country', 'Energy Supply', 'Energy Supply per Capita', '% Renewable'] # Renombro columnas\n",
    "    listaener=[]\n",
    "    for k in Energy.columns:\n",
    "        str(k).strip()\n",
    "        listaener.append(k)\n",
    "    Energy.set_axis(listaener, axis=1, inplace=True)\n",
    "    Energy[Energy == '...'] = np.nan                            #relleno con NaN donde haya puntos (...)\n",
    "    Energy['Country'].replace('[\\d*]','', regex=True, inplace=True)  #reemplazar con vacio '' donde cadena de numeros\n",
    "    Energy['Country'].replace('\\(.*\\)','', regex=True, inplace=True) #reemplazar con vacio '' donde cadena de numeros ()\n",
    "    Energy['Country']=Energy['Country'].str.rstrip()            #elimino espacios que sobran al fin de la cadena\n",
    "    Energy['Country'].replace({'Republic of Korea': 'South Korea', 'United States of America': 'United States',\n",
    "    'United Kingdom of Great Britain and Northern Ireland': 'United Kingdom',\n",
    "    'China, Hong Kong Special Administrative Region': 'Hong Kong'}, inplace=True) #reemplazo nombres\n",
    "    Energy['Energy Supply']=Energy['Energy Supply']*1000000     #paso de peta a giga joules\n",
    "    Energy=Energy.set_index('Country')\n",
    "    # print(Energy)\n",
    "    # print(len(Energy)) #227\n",
    "\n",
    "    GDP= pd.read_csv('assets/world_bank.csv', header=None, skiprows=4) #elimino header y las 4 priemras filas\n",
    "    GDP[0]=GDP[0].str.strip()                                   #remuevo espacios de la columna 0\n",
    "    axislist=[]\n",
    "    for x in GDP.iloc[0]:                                       #creo lista con los nombres de las cabeceras\n",
    "        axislist.append(x)\n",
    "    for k in range (4,len(axislist),1):\n",
    "        axislist[k]=str(int(axislist[k]))\n",
    "    GDP.drop([0],axis=0,inplace=True)                           #elimino la fila 0\n",
    "    GDP.set_axis(axislist, axis=1, inplace=True)                #coloco lista como nuevo axis\n",
    "    GDP.rename(columns={'Country Name':'Country'}, inplace=True)#cambio nombre de cabecera\n",
    "    GDP['Country'].replace({\"Korea, Rep.\" : \"South Korea\", \"Iran, Islamic Rep.\": \"Iran\", \"Hong Kong SAR, China\": \"Hong Kong\"}, inplace=True)\n",
    "    GDP=GDP.set_index('Country')\n",
    "    # print(GDP)\n",
    "    # print(len(GDP)) #264\n",
    "\n",
    "    ScimEn= pd.read_excel(\"assets/scimagojr-3.xlsx\", sheet_name = \"Sheet1\")\n",
    "    ScimEn=ScimEn.set_index('Country')\n",
    "    # print(ScimEn)\n",
    "    # print(len(ScimEn)) #191\n",
    "\n",
    "    mergedf=pd.merge(ScimEn, Energy, how='outer', left_index=True, right_index=True)  #uno GDP Y Energy dataframes en un solo dataf: mergedf\n",
    "    df=pd.merge(mergedf, GDP, how='outer', left_index=True, right_index=True)   #uno mergedf con Scim dataframe= todos dataframes en una sola= df\n",
    "    df=df.drop(df.columns[10:59], axis='columns') #elimino columnas que no necesito\n",
    "    df.sort_values(by=['Rank'], inplace=True)\n",
    "    df=df.iloc[0:15]\n",
    "    lista=[]\n",
    "    for x in df.columns:\n",
    "        str(x).strip()\n",
    "        lista.append(x)\n",
    "    df.set_axis(lista, axis=1, inplace=True)\n",
    "    answer_one=df                          #filtrada por los primeros 15 valores = (15 valores de rank)\n",
    "    #print(type(answer_one))\n",
    "    #print(answer_one.shape)\n",
    "    #print(answer_one)\n",
    "    return(answer_one)"
   ]
  },
  {
   "cell_type": "code",
   "execution_count": 4,
   "metadata": {
    "deletable": false,
    "editable": false,
    "nbgrader": {
     "checksum": "7bcc18b325d2935427ac2566cddd3661",
     "grade": true,
     "grade_id": "cell-780b5a4da845dbc3",
     "locked": true,
     "points": 5,
     "schema_version": 1,
     "solution": false
    }
   },
   "outputs": [],
   "source": [
    "assert type(answer_one()) == pd.DataFrame, \"Q1: You should return a DataFrame!\"\n",
    "\n",
    "assert answer_one().shape == (15,20), \"Q1: Your DataFrame should have 20 columns and 15 entries!\"\n"
   ]
  },
  {
   "cell_type": "code",
   "execution_count": 5,
   "metadata": {
    "deletable": false,
    "editable": false,
    "nbgrader": {
     "checksum": "e241830bcf3f63326b4c9cdf50be8f86",
     "grade": true,
     "grade_id": "cell-74b5f0b971379f64",
     "locked": true,
     "points": 10,
     "schema_version": 1,
     "solution": false
    }
   },
   "outputs": [],
   "source": [
    "# Cell for autograder.\n"
   ]
  },
  {
   "cell_type": "markdown",
   "metadata": {
    "deletable": false,
    "editable": false,
    "nbgrader": {
     "checksum": "596280cd22ed98c5540580c62954ec2f",
     "grade": false,
     "grade_id": "cell-babe0ff2a1fc6b17",
     "locked": true,
     "schema_version": 1,
     "solution": false
    }
   },
   "source": [
    "### Question 2\n",
    "The previous question joined three datasets then reduced this to just the top 15 entries. When you joined the datasets, but before you reduced this to the top 15 items, how many entries did you lose?\n",
    "\n",
    "*This function should return a single number.*"
   ]
  },
  {
   "cell_type": "code",
   "execution_count": 6,
   "metadata": {
    "deletable": false,
    "editable": false,
    "nbgrader": {
     "checksum": "c9a34da81c80126fd23ae2eac33f98f8",
     "grade": false,
     "grade_id": "cell-96f84e7b693bef63",
     "locked": true,
     "schema_version": 1,
     "solution": false
    }
   },
   "outputs": [
    {
     "data": {
      "text/html": [
       "<svg width=\"800\" height=\"300\">\n",
       "  <circle cx=\"150\" cy=\"180\" r=\"80\" fill-opacity=\"0.2\" stroke=\"black\" stroke-width=\"2\" fill=\"blue\" />\n",
       "  <circle cx=\"200\" cy=\"100\" r=\"80\" fill-opacity=\"0.2\" stroke=\"black\" stroke-width=\"2\" fill=\"red\" />\n",
       "  <circle cx=\"100\" cy=\"100\" r=\"80\" fill-opacity=\"0.2\" stroke=\"black\" stroke-width=\"2\" fill=\"green\" />\n",
       "  <line x1=\"150\" y1=\"125\" x2=\"300\" y2=\"150\" stroke=\"black\" stroke-width=\"2\" fill=\"black\" stroke-dasharray=\"5,3\"/>\n",
       "  <text x=\"300\" y=\"165\" font-family=\"Verdana\" font-size=\"35\">Everything but this!</text>\n",
       "</svg>\n"
      ],
      "text/plain": [
       "<IPython.core.display.HTML object>"
      ]
     },
     "metadata": {},
     "output_type": "display_data"
    }
   ],
   "source": [
    "%%HTML\n",
    "<svg width=\"800\" height=\"300\">\n",
    "  <circle cx=\"150\" cy=\"180\" r=\"80\" fill-opacity=\"0.2\" stroke=\"black\" stroke-width=\"2\" fill=\"blue\" />\n",
    "  <circle cx=\"200\" cy=\"100\" r=\"80\" fill-opacity=\"0.2\" stroke=\"black\" stroke-width=\"2\" fill=\"red\" />\n",
    "  <circle cx=\"100\" cy=\"100\" r=\"80\" fill-opacity=\"0.2\" stroke=\"black\" stroke-width=\"2\" fill=\"green\" />\n",
    "  <line x1=\"150\" y1=\"125\" x2=\"300\" y2=\"150\" stroke=\"black\" stroke-width=\"2\" fill=\"black\" stroke-dasharray=\"5,3\"/>\n",
    "  <text x=\"300\" y=\"165\" font-family=\"Verdana\" font-size=\"35\">Everything but this!</text>\n",
    "</svg>"
   ]
  },
  {
   "cell_type": "code",
   "execution_count": 10,
   "metadata": {
    "deletable": false,
    "nbgrader": {
     "checksum": "aeeb01fb73054269dd7b818d0945e2f7",
     "grade": false,
     "grade_id": "cell-b0c3202c000aada4",
     "locked": false,
     "schema_version": 1,
     "solution": true
    }
   },
   "outputs": [],
   "source": [
    "import numpy as np\n",
    "import re\n",
    "import pandas as pd\n",
    "def answer_two():\n",
    "    Energy= pd.read_excel(\"assets/Energy Indicators.xls\", sheet_name = \"Energy\")\n",
    "    Energy=Energy.drop(Energy.columns[[0, 1]], axis='columns')  #elimino columnas por su indice 0 y 1.\n",
    "    Energy=Energy.drop(range(0,17,1), axis=0)                   #eliino rango de filas 0 a 17 (header)\n",
    "    Energy=Energy.drop(range(244,282,1), axis=0)                #eliino rango de filas 244 a 282 (footer)\n",
    "    Energy.columns = ['Country', 'Energy Supply', 'Energy Supply per Capita', '% Renewable'] # Renombro columnas\n",
    "    listaener=[]\n",
    "    for k in Energy.columns:\n",
    "        str(k).strip()\n",
    "        listaener.append(k)\n",
    "    Energy.set_axis(listaener, axis=1, inplace=True)\n",
    "    Energy[Energy == '...'] = np.nan                            #relleno con NaN donde haya puntos (...)\n",
    "    Energy['Country'].replace('[\\d*]','', regex=True, inplace=True)  #reemplazar con vacio '' donde cadena de numeros\n",
    "    Energy['Country'].replace('\\(.*\\)','', regex=True, inplace=True) #reemplazar con vacio '' donde cadena de numeros ()\n",
    "    Energy['Country']=Energy['Country'].str.rstrip()            #elimino espacios que sobran al fin de la cadena\n",
    "    Energy['Country'].replace({'Republic of Korea': 'South Korea', 'United States of America': 'United States',\n",
    "    'United Kingdom of Great Britain and Northern Ireland': 'United Kingdom',\n",
    "    'China, Hong Kong Special Administrative Region': 'Hong Kong'}, inplace=True) #reemplazo nombres\n",
    "    Energy['Energy Supply']=Energy['Energy Supply']*1000000     #paso de peta a giga joules\n",
    "    Energy=Energy.set_index('Country')\n",
    "    # print(Energy)\n",
    "    # print(len(Energy)) #227\n",
    "\n",
    "    GDP= pd.read_csv('assets/world_bank.csv', header=None, skiprows=4) #elimino header y las 4 priemras filas\n",
    "    GDP[0]=GDP[0].str.strip()                                   #remuevo espacios de la columna 0\n",
    "    axislist=[]\n",
    "    for x in GDP.iloc[0]:                                       #creo lista con los nombres de las cabeceras\n",
    "        axislist.append(x)\n",
    "    for k in range (4,len(axislist),1):\n",
    "        axislist[k]=str(int(axislist[k]))\n",
    "    GDP.drop([0],axis=0,inplace=True)                           #elimino la fila 0\n",
    "    GDP.set_axis(axislist, axis=1, inplace=True)                #coloco lista como nuevo axis\n",
    "    GDP.rename(columns={'Country Name':'Country'}, inplace=True)#cambio nombre de cabecera\n",
    "    GDP['Country'].replace({\"Korea, Rep.\" : \"South Korea\", \"Iran, Islamic Rep.\": \"Iran\", \"Hong Kong SAR, China\": \"Hong Kong\"}, inplace=True)\n",
    "    GDP=GDP.set_index('Country')\n",
    "    # print(GDP)\n",
    "    # print(len(GDP)) #264\n",
    "\n",
    "    ScimEn= pd.read_excel(\"assets/scimagojr-3.xlsx\", sheet_name = \"Sheet1\")\n",
    "    ScimEn['Country']=ScimEn['Country'].str.rstrip()\n",
    "    ScimEn=ScimEn.set_index('Country')\n",
    "    # print(ScimEn)\n",
    "    # print(len(ScimEn)) #191\n",
    "\n",
    "   \n",
    "    mergedf=pd.merge(ScimEn, Energy, how='outer', left_index=True, right_index=True)  #uno GDP Y Energy dataframes en un solo dataf: mergedf\n",
    "    df=pd.merge(mergedf, GDP, how='outer', left_index=True, right_index=True)   #uno mergedf con Scim dataframe= todos dataframes en una sola= df\n",
    "    outervalues=len(df)\n",
    "    print('Outervalues length: ', outervalues)\n",
    "    \n",
    "    mergedf1=pd.merge(ScimEn, Energy, on=\"Country\")  #uno GDP Y Energy dataframes en un solo dataf: mergedf\n",
    "    df1=pd.merge(mergedf1, GDP, on=\"Country\")   #uno mergedf con Scim dataframe= todos dataframe\n",
    "    innervalues=len(df1)\n",
    "    print('innervalues length: ',innervalues)\n",
    "    \n",
    "    \n",
    "    answer_two=outervalues-innervalues\n",
    "    print('lost Values: ', answer_two)\n",
    "    \n",
    "    return(answer_two)\n",
    "    \n",
    "\n",
    "\n",
    "\n",
    "   \n"
   ]
  },
  {
   "cell_type": "code",
   "execution_count": 11,
   "metadata": {
    "deletable": false,
    "editable": false,
    "nbgrader": {
     "checksum": "19759b4a6c03f34b647f66d343952619",
     "grade": true,
     "grade_id": "cell-be24cfcaa87ab071",
     "locked": true,
     "points": 6.66,
     "schema_version": 1,
     "solution": false
    }
   },
   "outputs": [
    {
     "name": "stdout",
     "output_type": "stream",
     "text": [
      "Outervalues length:  318\n",
      "innervalues length:  162\n",
      "lost Values:  156\n"
     ]
    }
   ],
   "source": [
    "assert type(answer_two()) == int, \"Q2: You should return an int number!\"\n"
   ]
  },
  {
   "cell_type": "markdown",
   "metadata": {
    "deletable": false,
    "editable": false,
    "nbgrader": {
     "checksum": "5af1b4f99cd383263130f4c00442a133",
     "grade": false,
     "grade_id": "cell-2e54816014e48c18",
     "locked": true,
     "schema_version": 1,
     "solution": false
    }
   },
   "source": [
    "### Question 3\n",
    "What are the top 15 countries for average GDP over the last 10 years?\n",
    "\n",
    "*This function should return a Series named `avgGDP` with 15 countries and their average GDP sorted in descending order.*"
   ]
  },
  {
   "cell_type": "code",
   "execution_count": 32,
   "metadata": {
    "deletable": false,
    "nbgrader": {
     "checksum": "a3490fd71a46cecfa3da698e006fe729",
     "grade": false,
     "grade_id": "cell-8c3d74335c0d489a",
     "locked": false,
     "schema_version": 1,
     "solution": true
    }
   },
   "outputs": [],
   "source": [
    "import numpy as np\n",
    "import re\n",
    "import pandas as pd\n",
    "def answer_three():\n",
    "    Energy= pd.read_excel(\"assets/Energy Indicators.xls\", sheet_name = \"Energy\")\n",
    "    Energy=Energy.drop(Energy.columns[[0, 1]], axis='columns')  #elimino columnas por su indice 0 y 1.\n",
    "    Energy=Energy.drop(range(0,17,1), axis=0)                   #eliino rango de filas 0 a 17 (header)\n",
    "    Energy=Energy.drop(range(244,282,1), axis=0)                #eliino rango de filas 244 a 282 (footer)\n",
    "    Energy.columns = ['Country', 'Energy Supply', 'Energy Supply per Capita', '% Renewable'] # Renombro columnas\n",
    "    listaener=[]\n",
    "    for k in Energy.columns:\n",
    "        str(k).strip()\n",
    "        listaener.append(k)\n",
    "    Energy.set_axis(listaener, axis=1, inplace=True)\n",
    "    Energy[Energy == '...'] = np.nan                            #relleno con NaN donde haya puntos (...)\n",
    "    Energy['Country'].replace('[\\d*]','', regex=True, inplace=True)  #reemplazar con vacio '' donde cadena de numeros\n",
    "    Energy['Country'].replace('\\(.*\\)','', regex=True, inplace=True) #reemplazar con vacio '' donde cadena de numeros ()\n",
    "    Energy['Country']=Energy['Country'].str.rstrip()            #elimino espacios que sobran al fin de la cadena\n",
    "    Energy['Country'].replace({'Republic of Korea': 'South Korea', 'United States of America': 'United States',\n",
    "    'United Kingdom of Great Britain and Northern Ireland': 'United Kingdom',\n",
    "    'China, Hong Kong Special Administrative Region': 'Hong Kong'}, inplace=True) #reemplazo nombres\n",
    "    Energy['Energy Supply']=Energy['Energy Supply']*1000000     #paso de peta a giga joules\n",
    "    Energy=Energy.set_index('Country')\n",
    "    # print(Energy)\n",
    "    # print(len(Energy)) #227\n",
    "\n",
    "    GDP= pd.read_csv('assets/world_bank.csv', header=None, skiprows=4) #elimino header y las 4 priemras filas\n",
    "    GDP[0]=GDP[0].str.strip()                                   #remuevo espacios de la columna 0\n",
    "    axislist=[]\n",
    "    for x in GDP.iloc[0]:                                       #creo lista con los nombres de las cabeceras\n",
    "        axislist.append(x)\n",
    "    for k in range (4,len(axislist),1):\n",
    "        axislist[k]=str(int(axislist[k]))\n",
    "    GDP.drop([0],axis=0,inplace=True)                           #elimino la fila 0\n",
    "    GDP.set_axis(axislist, axis=1, inplace=True)                #coloco lista como nuevo axis\n",
    "    GDP.rename(columns={'Country Name':'Country'}, inplace=True)#cambio nombre de cabecera\n",
    "    GDP['Country'].replace({\"Korea, Rep.\" : \"South Korea\", \"Iran, Islamic Rep.\": \"Iran\", \"Hong Kong SAR, China\": \"Hong Kong\"}, inplace=True)\n",
    "    GDP=GDP.set_index('Country')\n",
    "    # print(GDP)\n",
    "    # print(len(GDP)) #264\n",
    "\n",
    "    ScimEn= pd.read_excel(\"assets/scimagojr-3.xlsx\", sheet_name = \"Sheet1\")\n",
    "    ScimEn=ScimEn.set_index('Country')\n",
    "    # print(ScimEn)\n",
    "    # print(len(ScimEn)) #191\n",
    "\n",
    "    mergedf=pd.merge(ScimEn, Energy, how='outer', left_index=True, right_index=True)  #uno GDP Y Energy dataframes en un solo dataf: mergedf\n",
    "    df=pd.merge(mergedf, GDP, how='outer', left_index=True, right_index=True)   #uno mergedf con Scim dataframe= todos dataframes en una sola= df\n",
    "    df=df.drop(df.columns[10:59], axis='columns') #elimino columnas que no necesito\n",
    "    df.sort_values(by=['Rank'], inplace=True)\n",
    "    df=df.iloc[0:15]\n",
    "    \n",
    "    lista=[]\n",
    "    for x in df.columns:                       #quita espacios de las columnas\n",
    "        str(x).strip()\n",
    "        lista.append(x)\n",
    "    df.set_axis(lista, axis=1, inplace=True)  #reestablece los nuevos nombres de columnas\n",
    "\n",
    "    df['avgGDP']=df.iloc[:,10:].mean(axis=1)\n",
    "    df=df['avgGDP'][0:15]\n",
    "    df.sort_values(ascending=False, inplace=True)\n",
    "    \n",
    "    answer_three=df   #filtrada por los primeros 15 valores = (15 valores de rank)\n",
    "    \n",
    "    print(answer_three)\n",
    "    print(type(answer_three))\n",
    "    \n",
    "    return(answer_three)\n"
   ]
  },
  {
   "cell_type": "code",
   "execution_count": 33,
   "metadata": {
    "deletable": false,
    "editable": false,
    "nbgrader": {
     "checksum": "2f9c90ee07138f94c027c5d2f907ab13",
     "grade": true,
     "grade_id": "cell-aaaa11ef7d26f4cf",
     "locked": true,
     "points": 6.66,
     "schema_version": 1,
     "solution": false
    }
   },
   "outputs": [
    {
     "name": "stdout",
     "output_type": "stream",
     "text": [
      "Country\n",
      "United States         1.536434e+13\n",
      "China                 6.348609e+12\n",
      "Japan                 5.542208e+12\n",
      "Germany               3.493025e+12\n",
      "France                2.681725e+12\n",
      "United Kingdom        2.487907e+12\n",
      "Brazil                2.189794e+12\n",
      "Italy                 2.120175e+12\n",
      "India                 1.769297e+12\n",
      "Canada                1.660647e+12\n",
      "Russian Federation    1.565459e+12\n",
      "Spain                 1.418078e+12\n",
      "Australia             1.164043e+12\n",
      "South Korea           1.106715e+12\n",
      "Iran                  4.441558e+11\n",
      "Name: avgGDP, dtype: float64\n",
      "<class 'pandas.core.series.Series'>\n"
     ]
    }
   ],
   "source": [
    "assert type(answer_three()) == pd.Series, \"Q3: You should return a Series!\"\n"
   ]
  },
  {
   "cell_type": "markdown",
   "metadata": {
    "deletable": false,
    "editable": false,
    "locked": true
   },
   "source": [
    "### Question 4\n",
    "By how much had the GDP changed over the 10 year span for the country with the 6th largest average GDP?\n",
    "\n",
    "*This function should return a single number.*"
   ]
  },
  {
   "cell_type": "code",
   "execution_count": 5,
   "metadata": {
    "deletable": false,
    "nbgrader": {
     "checksum": "768a19bcc8adc6991fe5c757e95ba784",
     "grade": false,
     "grade_id": "cell-7f77d099e3e0bbee",
     "locked": false,
     "schema_version": 1,
     "solution": true
    }
   },
   "outputs": [],
   "source": [
    "import numpy as np\n",
    "import re\n",
    "import pandas as pd\n",
    "def answer_four():\n",
    "    Energy= pd.read_excel(\"assets/Energy Indicators.xls\", sheet_name = \"Energy\")\n",
    "    Energy=Energy.drop(Energy.columns[[0, 1]], axis='columns')  #elimino columnas por su indice 0 y 1.\n",
    "    Energy=Energy.drop(range(0,17,1), axis=0)                   #eliino rango de filas 0 a 17 (header)\n",
    "    Energy=Energy.drop(range(244,282,1), axis=0)                #eliino rango de filas 244 a 282 (footer)\n",
    "    Energy.columns = ['Country', 'Energy Supply', 'Energy Supply per Capita', '% Renewable'] # Renombro columnas\n",
    "    listaener=[]\n",
    "    for k in Energy.columns:\n",
    "        str(k).strip()\n",
    "        listaener.append(k)\n",
    "    Energy.set_axis(listaener, axis=1, inplace=True)\n",
    "    Energy[Energy == '...'] = np.nan                            #relleno con NaN donde haya puntos (...)\n",
    "    Energy['Country'].replace('[\\d*]','', regex=True, inplace=True)  #reemplazar con vacio '' donde cadena de numeros\n",
    "    Energy['Country'].replace('\\(.*\\)','', regex=True, inplace=True) #reemplazar con vacio '' donde cadena de numeros ()\n",
    "    Energy['Country']=Energy['Country'].str.rstrip()            #elimino espacios que sobran al fin de la cadena\n",
    "    Energy['Country'].replace({'Republic of Korea': 'South Korea', 'United States of America': 'United States',\n",
    "    'United Kingdom of Great Britain and Northern Ireland': 'United Kingdom',\n",
    "    'China, Hong Kong Special Administrative Region': 'Hong Kong'}, inplace=True) #reemplazo nombres\n",
    "    Energy['Energy Supply']=Energy['Energy Supply']*1000000     #paso de peta a giga joules\n",
    "    Energy=Energy.set_index('Country')\n",
    "    # print(Energy)\n",
    "    # print(len(Energy)) #227\n",
    "\n",
    "    GDP= pd.read_csv('assets/world_bank.csv', header=None, skiprows=4) #elimino header y las 4 priemras filas\n",
    "    GDP[0]=GDP[0].str.strip()                                   #remuevo espacios de la columna 0\n",
    "    axislist=[]\n",
    "    for x in GDP.iloc[0]:                                       #creo lista con los nombres de las cabeceras\n",
    "        axislist.append(x)\n",
    "    for k in range (4,len(axislist),1):\n",
    "        axislist[k]=str(int(axislist[k]))\n",
    "    GDP.drop([0],axis=0,inplace=True)                           #elimino la fila 0\n",
    "    GDP.set_axis(axislist, axis=1, inplace=True)                #coloco lista como nuevo axis\n",
    "    GDP.rename(columns={'Country Name':'Country'}, inplace=True)#cambio nombre de cabecera\n",
    "    GDP['Country'].replace({\"Korea, Rep.\" : \"South Korea\", \"Iran, Islamic Rep.\": \"Iran\", \"Hong Kong SAR, China\": \"Hong Kong\"}, inplace=True)\n",
    "    GDP=GDP.set_index('Country')\n",
    "    # print(GDP)\n",
    "    # print(len(GDP)) #264\n",
    "\n",
    "    ScimEn= pd.read_excel(\"assets/scimagojr-3.xlsx\", sheet_name = \"Sheet1\")\n",
    "    ScimEn=ScimEn.set_index('Country')\n",
    "    # print(ScimEn)\n",
    "    # print(len(ScimEn)) #191\n",
    "\n",
    "    mergedf=pd.merge(ScimEn, Energy, how='outer', left_index=True, right_index=True)  #uno GDP Y Energy dataframes en un solo dataf: mergedf\n",
    "    df=pd.merge(mergedf, GDP, how='outer', left_index=True, right_index=True)   #uno mergedf con Scim dataframe= todos dataframes en una sola= df\n",
    "    df=df.drop(df.columns[10:59], axis='columns') #elimino columnas que no necesito\n",
    "    df.sort_values(by=['Rank'], inplace=True)\n",
    "    df=df.iloc[0:15]\n",
    "    \n",
    "    lista=[]\n",
    "    for x in df.columns:                       #quita espacios de las columnas\n",
    "        str(x).strip()\n",
    "        lista.append(x)\n",
    "    df.set_axis(lista, axis=1, inplace=True)  #reestablece los nuevos nombres de columnas\n",
    "    df['avgGDP']=df.iloc[:,10:].mean(axis=1)\n",
    "    #df.sort_values(ascending=False, inplace=True) descending average GDP Countries\n",
    "    print(df)\n",
    "    # print(df.columns)\n",
    "    answer_four=df.iloc[3,19] - df.iloc[3,10] #6th largest average GDP:unitedkindome:2015 - 2006 =\n",
    "    # print(answer_four)\n",
    "\n",
    "    print(answer_four)\n",
    "    print(type(answer_four))\n",
    "\n",
    "    return(answer_four)\n"
   ]
  },
  {
   "cell_type": "code",
   "execution_count": 6,
   "metadata": {
    "deletable": false,
    "editable": false,
    "nbgrader": {
     "checksum": "a7770c49cdfac4fa6368dfe8b39e6474",
     "grade": true,
     "grade_id": "cell-564dd8e5e24b0f83",
     "locked": true,
     "points": 6.66,
     "schema_version": 1,
     "solution": false
    }
   },
   "outputs": [],
   "source": [
    "# Cell for autograder.\n"
   ]
  },
  {
   "cell_type": "markdown",
   "metadata": {
    "deletable": false,
    "editable": false,
    "nbgrader": {
     "checksum": "ed6dbc94ff1b6268873413fee12741cd",
     "grade": false,
     "grade_id": "cell-617669111e38ca15",
     "locked": true,
     "schema_version": 1,
     "solution": false
    }
   },
   "source": [
    "### Question 5\n",
    "What is the mean energy supply per capita?\n",
    "\n",
    "*This function should return a single number.*"
   ]
  },
  {
   "cell_type": "code",
   "execution_count": 13,
   "metadata": {
    "deletable": false,
    "nbgrader": {
     "checksum": "cfd61a1735889e7ef20692ca0d28ddcb",
     "grade": false,
     "grade_id": "cell-58e79d558e982eef",
     "locked": false,
     "schema_version": 1,
     "solution": true
    }
   },
   "outputs": [],
   "source": [
    "import numpy as np\n",
    "import re\n",
    "import pandas as pd\n",
    "def answer_five():\n",
    "    Energy= pd.read_excel(\"assets/Energy Indicators.xls\", sheet_name = \"Energy\")\n",
    "    Energy=Energy.drop(Energy.columns[[0, 1]], axis='columns')  #elimino columnas por su indice 0 y 1.\n",
    "    Energy=Energy.drop(range(0,17,1), axis=0)                   #eliino rango de filas 0 a 17 (header)\n",
    "    Energy=Energy.drop(range(244,282,1), axis=0)                #eliino rango de filas 244 a 282 (footer)\n",
    "    Energy.columns = ['Country', 'Energy Supply', 'Energy Supply per Capita', '% Renewable'] # Renombro columnas\n",
    "    listaener=[]\n",
    "    for k in Energy.columns:\n",
    "        str(k).strip()\n",
    "        listaener.append(k)\n",
    "    Energy.set_axis(listaener, axis=1, inplace=True)\n",
    "    Energy[Energy == '...'] = np.nan                            #relleno con NaN donde haya puntos (...)\n",
    "    Energy['Country'].replace('[\\d*]','', regex=True, inplace=True)  #reemplazar con vacio '' donde cadena de numeros\n",
    "    Energy['Country'].replace('\\(.*\\)','', regex=True, inplace=True) #reemplazar con vacio '' donde cadena de numeros ()\n",
    "    Energy['Country']=Energy['Country'].str.rstrip()            #elimino espacios que sobran al fin de la cadena\n",
    "    Energy['Country'].replace({'Republic of Korea': 'South Korea', 'United States of America': 'United States',\n",
    "    'United Kingdom of Great Britain and Northern Ireland': 'United Kingdom',\n",
    "    'China, Hong Kong Special Administrative Region': 'Hong Kong'}, inplace=True) #reemplazo nombres\n",
    "    Energy['Energy Supply']=Energy['Energy Supply']*1000000     #paso de peta a giga joules\n",
    "    Energy=Energy.set_index('Country')\n",
    "    # print(Energy)\n",
    "    # print(len(Energy)) #227\n",
    "\n",
    "    GDP= pd.read_csv('assets/world_bank.csv', header=None, skiprows=4) #elimino header y las 4 priemras filas\n",
    "    GDP[0]=GDP[0].str.strip()                                   #remuevo espacios de la columna 0\n",
    "    axislist=[]\n",
    "    for x in GDP.iloc[0]:                                       #creo lista con los nombres de las cabeceras\n",
    "        axislist.append(x)\n",
    "    for k in range (4,len(axislist),1):\n",
    "        axislist[k]=str(int(axislist[k]))\n",
    "    GDP.drop([0],axis=0,inplace=True)                           #elimino la fila 0\n",
    "    GDP.set_axis(axislist, axis=1, inplace=True)                #coloco lista como nuevo axis\n",
    "    GDP.rename(columns={'Country Name':'Country'}, inplace=True)#cambio nombre de cabecera\n",
    "    GDP['Country'].replace({\"Korea, Rep.\" : \"South Korea\", \"Iran, Islamic Rep.\": \"Iran\", \"Hong Kong SAR, China\": \"Hong Kong\"}, inplace=True)\n",
    "    GDP=GDP.set_index('Country')\n",
    "    # print(GDP)\n",
    "    # print(len(GDP)) #264\n",
    "\n",
    "    ScimEn= pd.read_excel(\"assets/scimagojr-3.xlsx\", sheet_name = \"Sheet1\")\n",
    "    ScimEn=ScimEn.set_index('Country')\n",
    "    # print(ScimEn)\n",
    "    # print(len(ScimEn)) #191\n",
    "\n",
    "    mergedf=pd.merge(ScimEn, Energy, how='outer', left_index=True, right_index=True)  #uno GDP Y Energy dataframes en un solo dataf: mergedf\n",
    "    df=pd.merge(mergedf, GDP, how='outer', left_index=True, right_index=True)   #uno mergedf con Scim dataframe= todos dataframes en una sola= df\n",
    "    df=df.drop(df.columns[10:59], axis='columns') #elimino columnas que no necesito\n",
    "    df.sort_values(by=['Rank'], inplace=True)\n",
    "    df=df.iloc[0:15]\n",
    "\n",
    "    lista=[]\n",
    "    for x in df.columns:                       #quita espacios de las columnas\n",
    "        str(x).strip()\n",
    "        lista.append(x)\n",
    "    df.set_axis(lista, axis=1, inplace=True)  #reestablece los nuevos nombres de columnas\n",
    "    answer_five=df['Energy Supply per Capita'].mean() #157.6\n",
    "    print(answer_five)\n",
    "    print(type(answer_five))\n",
    "    return(answer_five)\n"
   ]
  },
  {
   "cell_type": "code",
   "execution_count": 14,
   "metadata": {
    "deletable": false,
    "editable": false,
    "nbgrader": {
     "checksum": "9d61bf22656baeecc77f63d54448590e",
     "grade": true,
     "grade_id": "cell-30cc66180851638c",
     "locked": true,
     "points": 6.66,
     "schema_version": 1,
     "solution": false
    }
   },
   "outputs": [],
   "source": [
    "# Cell for autograder.\n"
   ]
  },
  {
   "cell_type": "markdown",
   "metadata": {
    "deletable": false,
    "editable": false,
    "nbgrader": {
     "checksum": "2c7a163ae96f56317756456b0d9d695b",
     "grade": false,
     "grade_id": "cell-5c11ddd12fd71b3f",
     "locked": true,
     "schema_version": 1,
     "solution": false
    }
   },
   "source": [
    "### Question 6\n",
    "What country has the maximum % Renewable and what is the percentage?\n",
    "\n",
    "*This function should return a tuple with the name of the country and the percentage.*"
   ]
  },
  {
   "cell_type": "code",
   "execution_count": 5,
   "metadata": {
    "deletable": false,
    "nbgrader": {
     "checksum": "f8657f18c77eb0f752bca3cc48561da3",
     "grade": false,
     "grade_id": "cell-b6824b78e74619f9",
     "locked": false,
     "schema_version": 1,
     "solution": true
    }
   },
   "outputs": [],
   "source": [
    "import numpy as np\n",
    "import re\n",
    "import pandas as pd\n",
    "def answer_six():\n",
    "    Energy= pd.read_excel(\"assets/Energy Indicators.xls\", sheet_name = \"Energy\")\n",
    "    Energy=Energy.drop(Energy.columns[[0, 1]], axis='columns')  #elimino columnas por su indice 0 y 1.\n",
    "    Energy=Energy.drop(range(0,17,1), axis=0)                   #eliino rango de filas 0 a 17 (header)\n",
    "    Energy=Energy.drop(range(244,282,1), axis=0)                #eliino rango de filas 244 a 282 (footer)\n",
    "    Energy.columns = ['Country', 'Energy Supply', 'Energy Supply per Capita', '% Renewable'] # Renombro columnas\n",
    "    listaener=[]\n",
    "    for k in Energy.columns:\n",
    "        str(k).strip()\n",
    "        listaener.append(k)\n",
    "    Energy.set_axis(listaener, axis=1, inplace=True)\n",
    "    Energy[Energy == '...'] = np.nan                            #relleno con NaN donde haya puntos (...)\n",
    "    Energy['Country'].replace('[\\d*]','', regex=True, inplace=True)  #reemplazar con vacio '' donde cadena de numeros\n",
    "    Energy['Country'].replace('\\(.*\\)','', regex=True, inplace=True) #reemplazar con vacio '' donde cadena de numeros ()\n",
    "    Energy['Country']=Energy['Country'].str.rstrip()            #elimino espacios que sobran al fin de la cadena\n",
    "    Energy['Country'].replace({'Republic of Korea': 'South Korea', 'United States of America': 'United States',\n",
    "    'United Kingdom of Great Britain and Northern Ireland': 'United Kingdom',\n",
    "    'China, Hong Kong Special Administrative Region': 'Hong Kong'}, inplace=True) #reemplazo nombres\n",
    "    Energy['Energy Supply']=Energy['Energy Supply']*1000000     #paso de peta a giga joules\n",
    "    Energy=Energy.set_index('Country')\n",
    "    # print(Energy)\n",
    "    # print(len(Energy)) #227\n",
    "\n",
    "    GDP= pd.read_csv('assets/world_bank.csv', header=None, skiprows=4) #elimino header y las 4 priemras filas\n",
    "    GDP[0]=GDP[0].str.strip()                                   #remuevo espacios de la columna 0\n",
    "    axislist=[]\n",
    "    for x in GDP.iloc[0]:                                       #creo lista con los nombres de las cabeceras\n",
    "        axislist.append(x)\n",
    "    for k in range (4,len(axislist),1):\n",
    "        axislist[k]=str(int(axislist[k]))\n",
    "    GDP.drop([0],axis=0,inplace=True)                           #elimino la fila 0\n",
    "    GDP.set_axis(axislist, axis=1, inplace=True)                #coloco lista como nuevo axis\n",
    "    GDP.rename(columns={'Country Name':'Country'}, inplace=True)#cambio nombre de cabecera\n",
    "    GDP['Country'].replace({\"Korea, Rep.\" : \"South Korea\", \"Iran, Islamic Rep.\": \"Iran\", \"Hong Kong SAR, China\": \"Hong Kong\"}, inplace=True)\n",
    "    GDP=GDP.set_index('Country')\n",
    "    # print(GDP)\n",
    "    # print(len(GDP)) #264\n",
    "\n",
    "    ScimEn= pd.read_excel(\"assets/scimagojr-3.xlsx\", sheet_name = \"Sheet1\")\n",
    "    ScimEn=ScimEn.set_index('Country')\n",
    "    # print(ScimEn)\n",
    "    # print(len(ScimEn)) #191\n",
    "\n",
    "    mergedf=pd.merge(ScimEn, Energy, how='outer', left_index=True, right_index=True)  #uno GDP Y Energy dataframes en un solo dataf: mergedf\n",
    "    df=pd.merge(mergedf, GDP, how='outer', left_index=True, right_index=True)   #uno mergedf con Scim dataframe= todos dataframes en una sola= df\n",
    "    df=df.drop(df.columns[10:59], axis='columns') #elimino columnas que no necesito\n",
    "    df.sort_values(by=['Rank'], inplace=True)\n",
    "    df=df.iloc[0:15]\n",
    "\n",
    "    lista=[]\n",
    "    for x in df.columns:                       #quita espacios de las columnas\n",
    "        str(x).strip()\n",
    "        lista.append(x)\n",
    "    df.set_axis(lista, axis=1, inplace=True)  #reestablece los nuevos nombres de columnas\n",
    "    index_max_valor=df.index[df['% Renewable']==df['% Renewable'].max()].tolist() #entrega lista con index que cumpple la condicion\n",
    "    index_max_valor=index_max_valor[0] #saco el valor de la lista\n",
    "    valor=df.loc['Brazil']['% Renewable'] #encuentro el valor de Brazil # 69.64803\n",
    "    answer_six=(index_max_valor, valor)  #armo tupla\n",
    "    #print(type(answer_six))\n",
    "\n",
    "    return(answer_six)\n"
   ]
  },
  {
   "cell_type": "code",
   "execution_count": 6,
   "metadata": {
    "deletable": false,
    "editable": false,
    "nbgrader": {
     "checksum": "f8b28b0a824a3b76a6244c1273648ccd",
     "grade": true,
     "grade_id": "cell-2bd201c5c7bdd80f",
     "locked": true,
     "points": 6.66,
     "schema_version": 1,
     "solution": false
    }
   },
   "outputs": [
    {
     "name": "stdout",
     "output_type": "stream",
     "text": [
      "('Brazil', 69.64803)\n",
      "('Brazil', 69.64803)\n"
     ]
    }
   ],
   "source": [
    "assert type(answer_six()) == tuple, \"Q6: You should return a tuple!\"\n",
    "\n",
    "assert type(answer_six()[0]) == str, \"Q6: The first element in your result should be the name of the country!\"\n"
   ]
  },
  {
   "cell_type": "markdown",
   "metadata": {
    "deletable": false,
    "editable": false,
    "nbgrader": {
     "checksum": "a7b561a486a28ee4ba80a40715617c6d",
     "grade": false,
     "grade_id": "cell-ddf52a85ad3d5a11",
     "locked": true,
     "schema_version": 1,
     "solution": false
    }
   },
   "source": [
    "### Question 7\n",
    "Create a new column that is the ratio of Self-Citations to Total Citations. \n",
    "What is the maximum value for this new column, and what country has the highest ratio?\n",
    "\n",
    "*This function should return a tuple with the name of the country and the ratio.*"
   ]
  },
  {
   "cell_type": "code",
   "execution_count": 3,
   "metadata": {
    "deletable": false,
    "nbgrader": {
     "checksum": "e4b1cc5e3deefd24be992fbee18d0e74",
     "grade": false,
     "grade_id": "cell-a4f39737f38aa53c",
     "locked": false,
     "schema_version": 1,
     "solution": true
    }
   },
   "outputs": [],
   "source": [
    "import numpy as np\n",
    "import re\n",
    "import pandas as pd\n",
    "def answer_seven():\n",
    "    Energy= pd.read_excel(\"assets/Energy Indicators.xls\", sheet_name = \"Energy\")\n",
    "    Energy=Energy.drop(Energy.columns[[0, 1]], axis='columns')  #elimino columnas por su indice 0 y 1.\n",
    "    Energy=Energy.drop(range(0,17,1), axis=0)                   #eliino rango de filas 0 a 17 (header)\n",
    "    Energy=Energy.drop(range(244,282,1), axis=0)                #eliino rango de filas 244 a 282 (footer)\n",
    "    Energy.columns = ['Country', 'Energy Supply', 'Energy Supply per Capita', '% Renewable'] # Renombro columnas\n",
    "    listaener=[]\n",
    "    for k in Energy.columns:\n",
    "        str(k).strip()\n",
    "        listaener.append(k)\n",
    "    Energy.set_axis(listaener, axis=1, inplace=True)\n",
    "    Energy[Energy == '...'] = np.nan                            #relleno con NaN donde haya puntos (...)\n",
    "    Energy['Country'].replace('[\\d*]','', regex=True, inplace=True)  #reemplazar con vacio '' donde cadena de numeros\n",
    "    Energy['Country'].replace('\\(.*\\)','', regex=True, inplace=True) #reemplazar con vacio '' donde cadena de numeros ()\n",
    "    Energy['Country']=Energy['Country'].str.rstrip()            #elimino espacios que sobran al fin de la cadena\n",
    "    Energy['Country'].replace({'Republic of Korea': 'South Korea', 'United States of America': 'United States',\n",
    "    'United Kingdom of Great Britain and Northern Ireland': 'United Kingdom',\n",
    "    'China, Hong Kong Special Administrative Region': 'Hong Kong'}, inplace=True) #reemplazo nombres\n",
    "    Energy['Energy Supply']=Energy['Energy Supply']*1000000     #paso de peta a giga joules\n",
    "    Energy=Energy.set_index('Country')\n",
    "    # print(Energy)\n",
    "    # print(len(Energy)) #227\n",
    "\n",
    "    GDP= pd.read_csv('assets/world_bank.csv', header=None, skiprows=4) #elimino header y las 4 priemras filas\n",
    "    GDP[0]=GDP[0].str.strip()                                   #remuevo espacios de la columna 0\n",
    "    axislist=[]\n",
    "    for x in GDP.iloc[0]:                                       #creo lista con los nombres de las cabeceras\n",
    "        axislist.append(x)\n",
    "    for k in range (4,len(axislist),1):\n",
    "        axislist[k]=str(int(axislist[k]))\n",
    "    GDP.drop([0],axis=0,inplace=True)                           #elimino la fila 0\n",
    "    GDP.set_axis(axislist, axis=1, inplace=True)                #coloco lista como nuevo axis\n",
    "    GDP.rename(columns={'Country Name':'Country'}, inplace=True)#cambio nombre de cabecera\n",
    "    GDP['Country'].replace({\"Korea, Rep.\" : \"South Korea\", \"Iran, Islamic Rep.\": \"Iran\", \"Hong Kong SAR, China\": \"Hong Kong\"}, inplace=True)\n",
    "    GDP=GDP.set_index('Country')\n",
    "    # print(GDP)\n",
    "    # print(len(GDP)) #264\n",
    "\n",
    "    ScimEn= pd.read_excel(\"assets/scimagojr-3.xlsx\", sheet_name = \"Sheet1\")\n",
    "    ScimEn=ScimEn.set_index('Country')\n",
    "    # print(ScimEn)\n",
    "    # print(len(ScimEn)) #191\n",
    "\n",
    "    mergedf=pd.merge(ScimEn, Energy, how='outer', left_index=True, right_index=True)  #uno GDP Y Energy dataframes en un solo dataf: mergedf\n",
    "    df=pd.merge(mergedf, GDP, how='outer', left_index=True, right_index=True)   #uno mergedf con Scim dataframe= todos dataframes en una sola= df\n",
    "    df=df.drop(df.columns[10:59], axis='columns') #elimino columnas que no necesito\n",
    "    df.sort_values(by=['Rank'], inplace=True)\n",
    "    df=df.iloc[0:15]\n",
    "\n",
    "    lista=[]\n",
    "    for x in df.columns:                       #quita espacios de las columnas\n",
    "        str(x).strip()\n",
    "        lista.append(x)\n",
    "    df.set_axis(lista, axis=1, inplace=True)  #reestablece los nuevos nombres de columnas\n",
    "\n",
    "\n",
    "    df['Ratio_self-citations']=df['Self-citations']/df['Citations']\n",
    "    index_max_valor=df.index[df['Ratio_self-citations']==df['Ratio_self-citations'].max()].tolist() #entrega lista con index que cumpple la condicion\n",
    "    index_max_valor=index_max_valor[0] #saco el valor de la lista\n",
    "    \n",
    "    valor=df.loc['China']['Ratio_self-citations'] #encuentro el valor de china\n",
    "    answer_seven=(index_max_valor, valor)         #armo tupla\n",
    "\n",
    "    print(answer_seven)\n",
    "    return(answer_seven)\n"
   ]
  },
  {
   "cell_type": "code",
   "execution_count": 4,
   "metadata": {
    "deletable": false,
    "editable": false,
    "nbgrader": {
     "checksum": "ca448b3a16b65a3a08533cac736cc4d9",
     "grade": true,
     "grade_id": "cell-b7a163e9231b88c9",
     "locked": true,
     "points": 6.66,
     "schema_version": 1,
     "solution": false
    }
   },
   "outputs": [
    {
     "name": "stdout",
     "output_type": "stream",
     "text": [
      "('China', 0.6893126179389422)\n",
      "('China', 0.6893126179389422)\n"
     ]
    }
   ],
   "source": [
    "assert type(answer_seven()) == tuple, \"Q7: You should return a tuple!\"\n",
    "\n",
    "assert type(answer_seven()[0]) == str, \"Q7: The first element in your result should be the name of the country!\"\n"
   ]
  },
  {
   "cell_type": "markdown",
   "metadata": {
    "deletable": false,
    "editable": false,
    "nbgrader": {
     "checksum": "7be7b86ee7467539dd88746818c78c0e",
     "grade": false,
     "grade_id": "cell-5c89296ab6f94218",
     "locked": true,
     "schema_version": 1,
     "solution": false
    }
   },
   "source": [
    "### Question 8\n",
    "\n",
    "Create a column that estimates the population using Energy Supply and Energy Supply per capita. \n",
    "What is the third most populous country according to this estimate?\n",
    "\n",
    "*This function should return the name of the country*"
   ]
  },
  {
   "cell_type": "code",
   "execution_count": 13,
   "metadata": {
    "deletable": false,
    "nbgrader": {
     "checksum": "9d733b2abf089b1931e2e792ff51d488",
     "grade": false,
     "grade_id": "cell-9ca58137846b84d6",
     "locked": false,
     "schema_version": 1,
     "solution": true
    }
   },
   "outputs": [
    {
     "data": {
      "text/plain": [
       "'United States'"
      ]
     },
     "execution_count": 13,
     "metadata": {},
     "output_type": "execute_result"
    }
   ],
   "source": [
    "import numpy as np\n",
    "import re\n",
    "import pandas as pd\n",
    "def answer_eight():\n",
    "    Energy= pd.read_excel(\"assets/Energy Indicators.xls\", sheet_name = \"Energy\")\n",
    "    Energy=Energy.drop(Energy.columns[[0, 1]], axis='columns')  #elimino columnas por su indice 0 y 1.\n",
    "    Energy=Energy.drop(range(0,17,1), axis=0)                   #eliino rango de filas 0 a 17 (header)\n",
    "    Energy=Energy.drop(range(244,282,1), axis=0)                #eliino rango de filas 244 a 282 (footer)\n",
    "    Energy.columns = ['Country', 'Energy Supply', 'Energy Supply per Capita', '% Renewable'] # Renombro columnas\n",
    "    listaener=[]\n",
    "    for k in Energy.columns:\n",
    "        str(k).strip()\n",
    "        listaener.append(k)\n",
    "    Energy.set_axis(listaener, axis=1, inplace=True)\n",
    "    Energy[Energy == '...'] = np.nan                            #relleno con NaN donde haya puntos (...)\n",
    "    Energy['Country'].replace('[\\d*]','', regex=True, inplace=True)  #reemplazar con vacio '' donde cadena de numeros\n",
    "    Energy['Country'].replace('\\(.*\\)','', regex=True, inplace=True) #reemplazar con vacio '' donde cadena de numeros ()\n",
    "    Energy['Country']=Energy['Country'].str.rstrip()            #elimino espacios que sobran al fin de la cadena\n",
    "    Energy['Country'].replace({'Republic of Korea': 'South Korea', 'United States of America': 'United States',\n",
    "    'United Kingdom of Great Britain and Northern Ireland': 'United Kingdom',\n",
    "    'China, Hong Kong Special Administrative Region': 'Hong Kong'}, inplace=True) #reemplazo nombres\n",
    "    Energy['Energy Supply']=Energy['Energy Supply']*1000000     #paso de peta a giga joules\n",
    "    Energy=Energy.set_index('Country')\n",
    "    # print(Energy)\n",
    "    # print(len(Energy)) #227\n",
    "\n",
    "    GDP= pd.read_csv('assets/world_bank.csv', header=None, skiprows=4) #elimino header y las 4 priemras filas\n",
    "    GDP[0]=GDP[0].str.strip()                                   #remuevo espacios de la columna 0\n",
    "    axislist=[]\n",
    "    for x in GDP.iloc[0]:                                       #creo lista con los nombres de las cabeceras\n",
    "        axislist.append(x)\n",
    "    for k in range (4,len(axislist),1):\n",
    "        axislist[k]=str(int(axislist[k]))\n",
    "    GDP.drop([0],axis=0,inplace=True)                           #elimino la fila 0\n",
    "    GDP.set_axis(axislist, axis=1, inplace=True)                #coloco lista como nuevo axis\n",
    "    GDP.rename(columns={'Country Name':'Country'}, inplace=True)#cambio nombre de cabecera\n",
    "    GDP['Country'].replace({\"Korea, Rep.\" : \"South Korea\", \"Iran, Islamic Rep.\": \"Iran\", \"Hong Kong SAR, China\": \"Hong Kong\"}, inplace=True)\n",
    "    GDP=GDP.set_index('Country')\n",
    "    # print(GDP)\n",
    "    # print(len(GDP)) #264\n",
    "\n",
    "    ScimEn= pd.read_excel(\"assets/scimagojr-3.xlsx\", sheet_name = \"Sheet1\")\n",
    "    ScimEn=ScimEn.set_index('Country')\n",
    "    # print(ScimEn)\n",
    "    # print(len(ScimEn)) #191\n",
    "\n",
    "    mergedf=pd.merge(ScimEn, Energy, how='outer', left_index=True, right_index=True)  #uno GDP Y Energy dataframes en un solo dataf: mergedf\n",
    "    df=pd.merge(mergedf, GDP, how='outer', left_index=True, right_index=True)   #uno mergedf con Scim dataframe= todos dataframes en una sola= df\n",
    "    df=df.drop(df.columns[10:59], axis='columns') #elimino columnas que no necesito\n",
    "    df.sort_values(by=['Rank'], inplace=True)\n",
    "    df=df.iloc[0:15]\n",
    "\n",
    "    lista=[]\n",
    "    for x in df.columns:                       #quita espacios de las columnas\n",
    "        str(x).strip()\n",
    "        lista.append(x)\n",
    "    df.set_axis(lista, axis=1, inplace=True)  #reestablece los nuevos nombres de columnas\n",
    "\n",
    "    df['Population']=df['Energy Supply']/df['Energy Supply per Capita']\n",
    "    df.sort_values(by=['Population'], inplace=True, ascending=False)\n",
    "\n",
    "    index=df.index           #lista de index en orden descendente\n",
    "    answer_eight=index[2]   #tercer index\n",
    "    #print(answer_eight)\n",
    "      \n",
    "    return(answer_eight)\n",
    "answer_eight()"
   ]
  },
  {
   "cell_type": "code",
   "execution_count": 14,
   "metadata": {
    "deletable": false,
    "editable": false,
    "nbgrader": {
     "checksum": "ba2ad50cf8198767b0bd2f75b8d97e87",
     "grade": true,
     "grade_id": "cell-3f3620c88df08b20",
     "locked": true,
     "points": 0,
     "schema_version": 1,
     "solution": false
    }
   },
   "outputs": [],
   "source": [
    "assert type(answer_eight()) == str, \"Q8: You should return the name of the country!\"\n"
   ]
  },
  {
   "cell_type": "markdown",
   "metadata": {
    "deletable": false,
    "editable": false,
    "nbgrader": {
     "checksum": "164cba98164a1045db7de10dd37115c8",
     "grade": false,
     "grade_id": "cell-2065207e66e5ec01",
     "locked": true,
     "schema_version": 1,
     "solution": false
    }
   },
   "source": [
    "### Question 9\n",
    "Create a column that estimates the number of citable documents per person. \n",
    "What is the correlation between the number of citable documents per capita and the energy supply per capita? Use the `.corr()` method, (Pearson's correlation).\n",
    "\n",
    "*This function should return a single number.*\n",
    "\n",
    "*(Optional: Use the built-in function `plot9()` to visualize the relationship between Energy Supply per Capita vs. Citable docs per Capita)*"
   ]
  },
  {
   "cell_type": "code",
   "execution_count": 7,
   "metadata": {
    "deletable": false,
    "nbgrader": {
     "checksum": "94e06c4c3a9618b94dbb0e86913b546c",
     "grade": false,
     "grade_id": "cell-033679ea456bfb9d",
     "locked": false,
     "schema_version": 1,
     "solution": true
    }
   },
   "outputs": [
    {
     "data": {
      "text/plain": [
       "0.7940010435442943"
      ]
     },
     "execution_count": 7,
     "metadata": {},
     "output_type": "execute_result"
    }
   ],
   "source": [
    "import numpy as np\n",
    "import re\n",
    "import pandas as pd\n",
    "import scipy.stats as stats\n",
    "def answer_nine():\n",
    "    Energy= pd.read_excel(\"assets/Energy Indicators.xls\", sheet_name = \"Energy\")\n",
    "    Energy=Energy.drop(Energy.columns[[0, 1]], axis='columns')  #elimino columnas por su indice 0 y 1.\n",
    "    Energy=Energy.drop(range(0,17,1), axis=0)                   #eliino rango de filas 0 a 17 (header)\n",
    "    Energy=Energy.drop(range(244,282,1), axis=0)                #eliino rango de filas 244 a 282 (footer)\n",
    "    Energy.columns = ['Country', 'Energy Supply', 'Energy Supply per Capita', '% Renewable'] # Renombro columnas\n",
    "    listaener=[]\n",
    "    for k in Energy.columns:\n",
    "        str(k).strip()\n",
    "        listaener.append(k)\n",
    "    Energy.set_axis(listaener, axis=1, inplace=True)\n",
    "    Energy[Energy == '...'] = np.nan                            #relleno con NaN donde haya puntos (...)\n",
    "    Energy['Country'].replace('[\\d*]','', regex=True, inplace=True)  #reemplazar con vacio '' donde cadena de numeros\n",
    "    Energy['Country'].replace('\\(.*\\)','', regex=True, inplace=True) #reemplazar con vacio '' donde cadena de numeros ()\n",
    "    Energy['Country']=Energy['Country'].str.rstrip()            #elimino espacios que sobran al fin de la cadena\n",
    "    Energy['Country'].replace({'Republic of Korea': 'South Korea', 'United States of America': 'United States',\n",
    "    'United Kingdom of Great Britain and Northern Ireland': 'United Kingdom',\n",
    "    'China, Hong Kong Special Administrative Region': 'Hong Kong'}, inplace=True) #reemplazo nombres\n",
    "    Energy['Energy Supply']=Energy['Energy Supply']*1000000     #paso de peta a giga joules\n",
    "    Energy=Energy.set_index('Country')\n",
    "    # print(Energy)\n",
    "    # print(len(Energy)) #227\n",
    "\n",
    "    GDP= pd.read_csv('assets/world_bank.csv', header=None, skiprows=4) #elimino header y las 4 priemras filas\n",
    "    GDP[0]=GDP[0].str.strip()                                   #remuevo espacios de la columna 0\n",
    "    axislist=[]\n",
    "    for x in GDP.iloc[0]:                                       #creo lista con los nombres de las cabeceras\n",
    "        axislist.append(x)\n",
    "    for k in range (4,len(axislist),1):\n",
    "        axislist[k]=str(int(axislist[k]))\n",
    "    GDP.drop([0],axis=0,inplace=True)                           #elimino la fila 0\n",
    "    GDP.set_axis(axislist, axis=1, inplace=True)                #coloco lista como nuevo axis\n",
    "    GDP.rename(columns={'Country Name':'Country'}, inplace=True)#cambio nombre de cabecera\n",
    "    GDP['Country'].replace({\"Korea, Rep.\" : \"South Korea\", \"Iran, Islamic Rep.\": \"Iran\", \"Hong Kong SAR, China\": \"Hong Kong\"}, inplace=True)\n",
    "    GDP=GDP.set_index('Country')\n",
    "    # print(GDP)\n",
    "    # print(len(GDP)) #264\n",
    "\n",
    "    ScimEn= pd.read_excel(\"assets/scimagojr-3.xlsx\", sheet_name = \"Sheet1\")\n",
    "    ScimEn=ScimEn.set_index('Country')\n",
    "    # print(ScimEn)\n",
    "    # print(len(ScimEn)) #191\n",
    "\n",
    "    mergedf=pd.merge(ScimEn, Energy, how='outer', left_index=True, right_index=True)  #uno GDP Y Energy dataframes en un solo dataf: mergedf\n",
    "    df=pd.merge(mergedf, GDP, how='outer', left_index=True, right_index=True)   #uno mergedf con Scim dataframe= todos dataframes en una sola= df\n",
    "    df=df.drop(df.columns[10:59], axis='columns') #elimino columnas que no necesito\n",
    "    df.sort_values(by=['Rank'], inplace=True)\n",
    "    df=df.iloc[0:15]\n",
    "\n",
    "    lista=[]\n",
    "    for x in df.columns:                       #quita espacios de las columnas\n",
    "        str(x).strip()\n",
    "        lista.append(x)\n",
    "    df.set_axis(lista, axis=1, inplace=True)  #reestablece los nuevos nombres de columnas\n",
    "\n",
    "    df['Population']=df['Energy Supply']/df['Energy Supply per Capita']\n",
    "    df['Citable docs per Capita'] = df['Citable documents'] / df['Population']\n",
    "    corr, pval=stats.pearsonr(df['Citable docs per Capita'],df[\"Energy Supply per Capita\"])  #se devuelven dos variables coor, pval\n",
    "    #print('Correlacion: ',corr)\n",
    "    #print('pval:        ', pval)\n",
    "\n",
    "    \n",
    "    answer_nine=corr \n",
    "    return(answer_nine)\n",
    "answer_nine()"
   ]
  },
  {
   "cell_type": "code",
   "execution_count": 8,
   "metadata": {
    "deletable": false,
    "editable": false,
    "nbgrader": {
     "checksum": "01a146bbcca0fa9c9c13e71ab52e710f",
     "grade": false,
     "grade_id": "cell-644824f6c708bf80",
     "locked": true,
     "schema_version": 1,
     "solution": false
    }
   },
   "outputs": [],
   "source": [
    "def plot9():\n",
    "    import matplotlib as plt\n",
    "    %matplotlib inline\n",
    "    \n",
    "    Top15 = answer_one()\n",
    "    Top15['PopEst'] = Top15['Energy Supply'] / Top15['Energy Supply per Capita']\n",
    "    Top15['Citable docs per Capita'] = Top15['Citable documents'] / Top15['PopEst']\n",
    "    Top15.plot(x='Citable docs per Capita', y='Energy Supply per Capita', kind='scatter', xlim=[0, 0.0006])"
   ]
  },
  {
   "cell_type": "code",
   "execution_count": 3,
   "metadata": {
    "deletable": false,
    "editable": false,
    "nbgrader": {
     "checksum": "8dced1dde88b6877f89bdec482870476",
     "grade": true,
     "grade_id": "cell-3cb5c699065a4a20",
     "locked": true,
     "points": 6.66,
     "schema_version": 1,
     "solution": false
    }
   },
   "outputs": [
    {
     "name": "stdout",
     "output_type": "stream",
     "text": [
      "Correlacion:  0.7940010435442943\n",
      "pval:         0.0004083648953039715\n",
      "Correlacion:  0.7940010435442943\n",
      "pval:         0.0004083648953039715\n"
     ]
    }
   ],
   "source": [
    "assert answer_nine() >= -1. and answer_nine() <= 1., \"Q9: A valid correlation should between -1 to 1!\"\n"
   ]
  },
  {
   "cell_type": "markdown",
   "metadata": {
    "deletable": false,
    "editable": false,
    "nbgrader": {
     "checksum": "8af5ffad89be1e5c6292438724d6f8d5",
     "grade": false,
     "grade_id": "cell-ad09765e29b91157",
     "locked": true,
     "schema_version": 1,
     "solution": false
    }
   },
   "source": [
    "### Question 10\n",
    "Create a new column with a 1 if the country's % Renewable value is at or above the median for all countries in the top 15, and a 0 if the country's % Renewable value is below the median.\n",
    "\n",
    "*This function should return a series named `HighRenew` whose index is the country name sorted in ascending order of rank.*"
   ]
  },
  {
   "cell_type": "code",
   "execution_count": 11,
   "metadata": {
    "deletable": false,
    "nbgrader": {
     "checksum": "340c06bd50a9a027a2190674cfb981b9",
     "grade": false,
     "grade_id": "cell-0fdf60e64bf1a4f9",
     "locked": false,
     "schema_version": 1,
     "solution": true
    }
   },
   "outputs": [],
   "source": [
    "import numpy as np\n",
    "import re\n",
    "import pandas as pd\n",
    "import scipy.stats as stats\n",
    "def answer_ten():\n",
    "    Energy= pd.read_excel(\"assets/Energy Indicators.xls\", sheet_name = \"Energy\")\n",
    "    Energy=Energy.drop(Energy.columns[[0, 1]], axis='columns')  #elimino columnas por su indice 0 y 1.\n",
    "    Energy=Energy.drop(range(0,17,1), axis=0)                   #eliino rango de filas 0 a 17 (header)\n",
    "    Energy=Energy.drop(range(244,282,1), axis=0)                #eliino rango de filas 244 a 282 (footer)\n",
    "    Energy.columns = ['Country', 'Energy Supply', 'Energy Supply per Capita', '% Renewable'] # Renombro columnas\n",
    "    listaener=[]\n",
    "    for k in Energy.columns:\n",
    "        str(k).strip()\n",
    "        listaener.append(k)\n",
    "    Energy.set_axis(listaener, axis=1, inplace=True)\n",
    "    Energy[Energy == '...'] = np.nan                            #relleno con NaN donde haya puntos (...)\n",
    "    Energy['Country'].replace('[\\d*]','', regex=True, inplace=True)  #reemplazar con vacio '' donde cadena de numeros\n",
    "    Energy['Country'].replace('\\(.*\\)','', regex=True, inplace=True) #reemplazar con vacio '' donde cadena de numeros ()\n",
    "    Energy['Country']=Energy['Country'].str.rstrip()            #elimino espacios que sobran al fin de la cadena\n",
    "    Energy['Country'].replace({'Republic of Korea': 'South Korea', 'United States of America': 'United States',\n",
    "    'United Kingdom of Great Britain and Northern Ireland': 'United Kingdom',\n",
    "    'China, Hong Kong Special Administrative Region': 'Hong Kong'}, inplace=True) #reemplazo nombres\n",
    "    Energy['Energy Supply']=Energy['Energy Supply']*1000000     #paso de peta a giga joules\n",
    "    Energy=Energy.set_index('Country')\n",
    "    # print(Energy)\n",
    "    # print(len(Energy)) #227\n",
    "\n",
    "    GDP= pd.read_csv('assets/world_bank.csv', header=None, skiprows=4) #elimino header y las 4 priemras filas\n",
    "    GDP[0]=GDP[0].str.strip()                                   #remuevo espacios de la columna 0\n",
    "    axislist=[]\n",
    "    for x in GDP.iloc[0]:                                       #creo lista con los nombres de las cabeceras\n",
    "        axislist.append(x)\n",
    "    for k in range (4,len(axislist),1):\n",
    "        axislist[k]=str(int(axislist[k]))\n",
    "    GDP.drop([0],axis=0,inplace=True)                           #elimino la fila 0\n",
    "    GDP.set_axis(axislist, axis=1, inplace=True)                #coloco lista como nuevo axis\n",
    "    GDP.rename(columns={'Country Name':'Country'}, inplace=True)#cambio nombre de cabecera\n",
    "    GDP['Country'].replace({\"Korea, Rep.\" : \"South Korea\", \"Iran, Islamic Rep.\": \"Iran\", \"Hong Kong SAR, China\": \"Hong Kong\"}, inplace=True)\n",
    "    GDP=GDP.set_index('Country')\n",
    "    # print(GDP)\n",
    "    # print(len(GDP)) #264\n",
    "\n",
    "    ScimEn= pd.read_excel(\"assets/scimagojr-3.xlsx\", sheet_name = \"Sheet1\")\n",
    "    ScimEn=ScimEn.set_index('Country')\n",
    "    # print(ScimEn)\n",
    "    # print(len(ScimEn)) #191\n",
    "\n",
    "    mergedf=pd.merge(ScimEn, Energy, how='outer', left_index=True, right_index=True)  #uno GDP Y Energy dataframes en un solo dataf: mergedf\n",
    "    df=pd.merge(mergedf, GDP, how='outer', left_index=True, right_index=True)   #uno mergedf con Scim dataframe= todos dataframes en una sola= df\n",
    "    df=df.drop(df.columns[10:59], axis='columns') #elimino columnas que no necesito\n",
    "    df.sort_values(by=['Rank'], inplace=True)\n",
    "    df=df.iloc[0:15]\n",
    "\n",
    "    lista=[]\n",
    "    for x in df.columns:                       #quita espacios de las columnas\n",
    "        str(x).strip()\n",
    "        lista.append(x)\n",
    "    df.set_axis(lista, axis=1, inplace=True)  #reestablece los nuevos nombres de columnas\n",
    "\n",
    "    df['HighRenew']=np.where(df['% Renewable'] >= df['% Renewable'].median(), 1 , 0)\n",
    "\n",
    "    answer_ten=df['HighRenew']\n",
    "    print(type(answer_ten))\n",
    "    \n",
    "    return(answer_ten)\n",
    "\n",
    "\n"
   ]
  },
  {
   "cell_type": "code",
   "execution_count": 12,
   "metadata": {
    "deletable": false,
    "editable": false,
    "nbgrader": {
     "checksum": "f624e6996eca5796eaf27fb4d0593175",
     "grade": true,
     "grade_id": "cell-b29a631fd9a7730f",
     "locked": true,
     "points": 6.66,
     "schema_version": 1,
     "solution": false
    }
   },
   "outputs": [
    {
     "name": "stdout",
     "output_type": "stream",
     "text": [
      "<class 'pandas.core.series.Series'>\n"
     ]
    }
   ],
   "source": [
    "assert type(answer_ten()) == pd.Series, \"Q10: You should return a Series!\"\n"
   ]
  },
  {
   "cell_type": "markdown",
   "metadata": {
    "deletable": false,
    "editable": false,
    "nbgrader": {
     "checksum": "52f682e7066791c34cd3b2402855cbf5",
     "grade": false,
     "grade_id": "cell-677c51ba711c3af7",
     "locked": true,
     "schema_version": 1,
     "solution": false
    }
   },
   "source": [
    "### Question 11\n",
    "Use the following dictionary to group the Countries by Continent, then create a DataFrame that displays the sample size (the number of countries in each continent bin), and the sum, mean, and std deviation for the estimated population of each country.\n",
    "\n",
    "```python\n",
    "ContinentDict  = {'China':'Asia', \n",
    "                  'United States':'North America', \n",
    "                  'Japan':'Asia', \n",
    "                  'United Kingdom':'Europe', \n",
    "                  'Russian Federation':'Europe', \n",
    "                  'Canada':'North America', \n",
    "                  'Germany':'Europe', \n",
    "                  'India':'Asia',\n",
    "                  'France':'Europe', \n",
    "                  'South Korea':'Asia', \n",
    "                  'Italy':'Europe', \n",
    "                  'Spain':'Europe', \n",
    "                  'Iran':'Asia',\n",
    "                  'Australia':'Australia', \n",
    "                  'Brazil':'South America'}\n",
    "```\n",
    "\n",
    "*This function should return a DataFrame with index named Continent `['Asia', 'Australia', 'Europe', 'North America', 'South America']` and columns `['size', 'sum', 'mean', 'std']`*"
   ]
  },
  {
   "cell_type": "code",
   "execution_count": 9,
   "metadata": {
    "deletable": false,
    "nbgrader": {
     "checksum": "b55846bc20cd01b0acbcb776504a766d",
     "grade": false,
     "grade_id": "cell-a5e0c0df27304f98",
     "locked": false,
     "schema_version": 1,
     "solution": true
    }
   },
   "outputs": [],
   "source": [
    "import numpy as np\n",
    "import re\n",
    "import pandas as pd\n",
    "def answer_eleven():\n",
    "        Energy= pd.read_excel(\"assets/Energy Indicators.xls\", sheet_name = \"Energy\")\n",
    "        Energy=Energy.drop(Energy.columns[[0, 1]], axis='columns')  #elimino columnas por su indice 0 y 1.\n",
    "        Energy=Energy.drop(range(0,17,1), axis=0)                   #eliino rango de filas 0 a 17 (header)\n",
    "        Energy=Energy.drop(range(244,282,1), axis=0)                #eliino rango de filas 244 a 282 (footer)\n",
    "        Energy.columns = ['Country', 'Energy Supply', 'Energy Supply per Capita', '% Renewable'] # Renombro columnas\n",
    "        listaener=[]\n",
    "        for k in Energy.columns:\n",
    "            str(k).strip()\n",
    "            listaener.append(k)\n",
    "        Energy.set_axis(listaener, axis=1, inplace=True)\n",
    "        Energy[Energy == '...'] = np.nan                            #relleno con NaN donde haya puntos (...)\n",
    "        Energy['Country'].replace('[\\d*]','', regex=True, inplace=True)  #reemplazar con vacio '' donde cadena de numeros\n",
    "        Energy['Country'].replace('\\(.*\\)','', regex=True, inplace=True) #reemplazar con vacio '' donde cadena de numeros ()\n",
    "        Energy['Country']=Energy['Country'].str.rstrip()            #elimino espacios que sobran al fin de la cadena\n",
    "        Energy['Country'].replace({'Republic of Korea': 'South Korea', 'United States of America': 'United States',\n",
    "        'United Kingdom of Great Britain and Northern Ireland': 'United Kingdom',\n",
    "        'China, Hong Kong Special Administrative Region': 'Hong Kong'}, inplace=True) #reemplazo nombres\n",
    "        Energy['Energy Supply']=Energy['Energy Supply']*1000000     #paso de peta a giga joules\n",
    "        Energy=Energy.set_index('Country')\n",
    "        # print(Energy)\n",
    "        # print(len(Energy)) #227\n",
    "\n",
    "        GDP= pd.read_csv('assets/world_bank.csv', header=None, skiprows=4) #elimino header y las 4 priemras filas\n",
    "        GDP[0]=GDP[0].str.strip()                                   #remuevo espacios de la columna 0\n",
    "        axislist=[]\n",
    "        for x in GDP.iloc[0]:                                       #creo lista con los nombres de las cabeceras\n",
    "            axislist.append(x)\n",
    "        for k in range (4,len(axislist),1):\n",
    "            axislist[k]=str(int(axislist[k]))\n",
    "        GDP.drop([0],axis=0,inplace=True)                           #elimino la fila 0\n",
    "        GDP.set_axis(axislist, axis=1, inplace=True)                #coloco lista como nuevo axis\n",
    "        GDP.rename(columns={'Country Name':'Country'}, inplace=True)#cambio nombre de cabecera\n",
    "        GDP['Country'].replace({\"Korea, Rep.\" : \"South Korea\", \"Iran, Islamic Rep.\": \"Iran\", \"Hong Kong SAR, China\": \"Hong Kong\"}, inplace=True)\n",
    "        GDP=GDP.set_index('Country')\n",
    "        # print(GDP)\n",
    "        # print(len(GDP)) #264\n",
    "\n",
    "        ScimEn= pd.read_excel(\"assets/scimagojr-3.xlsx\", sheet_name = \"Sheet1\")\n",
    "        ScimEn=ScimEn.set_index('Country')\n",
    "        # print(ScimEn)\n",
    "        # print(len(ScimEn)) #191\n",
    "\n",
    "        mergedf=pd.merge(ScimEn, Energy, how='outer', left_index=True, right_index=True)  #uno GDP Y Energy dataframes en un solo dataf: mergedf\n",
    "        df=pd.merge(mergedf, GDP, how='outer', left_index=True, right_index=True)   #uno mergedf con Scim dataframe= todos dataframes en una sola= df\n",
    "        df=df.drop(df.columns[10:59], axis='columns') #elimino columnas que no necesito\n",
    "        df.sort_values(by=['Rank'], inplace=True)\n",
    "        df=df.iloc[0:15]\n",
    "\n",
    "        lista=[]\n",
    "        for x in df.columns:                       #quita espacios de las columnas\n",
    "            str(x).strip()\n",
    "            lista.append(x)\n",
    "        df.set_axis(lista, axis=1, inplace=True)  #reestablece los nuevos nombres de columnas\n",
    "\n",
    "        df['Population']=df['Energy Supply']/df['Energy Supply per Capita']\n",
    "        ContinentDict  = {'China':'Asia',\n",
    "                      'United States':'North America',\n",
    "                      'Japan':'Asia',\n",
    "                      'United Kingdom':'Europe',\n",
    "                      'Russian Federation':'Europe',\n",
    "                      'Canada':'North America',\n",
    "                      'Germany':'Europe',\n",
    "                      'India':'Asia',\n",
    "                      'France':'Europe',\n",
    "                      'South Korea':'Asia',\n",
    "                      'Italy':'Europe',\n",
    "                      'Spain':'Europe',\n",
    "                      'Iran':'Asia',\n",
    "                      'Australia':'Australia',\n",
    "                      'Brazil':'South America'}\n",
    "        continents=pd.Series(ContinentDict)\n",
    "        df['Continent']=continents\n",
    "        list_continents=continents.unique()\n",
    "        list_continents.sort()                        #lista continentes\n",
    "\n",
    "        df.reset_index(inplace = True)\n",
    "        df.set_index(['Continent','Country'], inplace=True)\n",
    "        df.sort_values(by=['Continent'], inplace=True)\n",
    "\n",
    "        size=[]\n",
    "        sum=[]\n",
    "        mean=[]\n",
    "        std=[]\n",
    "        for i in list_continents:\n",
    "            size.append(len(df.loc[i]))                 #lista de size\n",
    "            sum.append(df.loc[i]['Population'].sum())   #lista de sum  population\n",
    "            mean.append(df.loc[i]['Population'].mean()) #lista de mean population\n",
    "            std.append(df.loc[i]['Population'].std())   #lista de std  population\n",
    "\n",
    "        col = {\"size\": size, \"sum\": sum, \"mean\": mean, \"std\":std}\n",
    "        answer_eleven=pd.DataFrame(col, index=list_continents)\n",
    "\n",
    "\n",
    "        return(answer_eleven)\n"
   ]
  },
  {
   "cell_type": "code",
   "execution_count": 10,
   "metadata": {
    "deletable": false,
    "editable": false,
    "nbgrader": {
     "checksum": "233318097d9c94fdc87395c967da14c4",
     "grade": true,
     "grade_id": "cell-18d1a07971b25743",
     "locked": true,
     "points": 6.66,
     "schema_version": 1,
     "solution": false
    }
   },
   "outputs": [],
   "source": [
    "assert type(answer_eleven()) == pd.DataFrame, \"Q11: You should return a DataFrame!\"\n",
    "\n",
    "assert answer_eleven().shape[0] == 5, \"Q11: Wrong row numbers!\"\n",
    "\n",
    "assert answer_eleven().shape[1] == 4, \"Q11: Wrong column numbers!\"\n"
   ]
  },
  {
   "cell_type": "markdown",
   "metadata": {
    "deletable": false,
    "editable": false,
    "nbgrader": {
     "checksum": "78d9dbb8ff6e0a1ac1e0d16e026a7d98",
     "grade": false,
     "grade_id": "cell-fa26f5c1eac39c6c",
     "locked": true,
     "schema_version": 1,
     "solution": false
    }
   },
   "source": [
    "### Question 12\n",
    "Cut % Renewable into 5 bins. Group Top15 by the Continent, as well as these new % Renewable bins. How many countries are in each of these groups?\n",
    "\n",
    "*This function should return a Series with a MultiIndex of `Continent`, then the bins for `% Renewable`. Do not include groups with no countries.*"
   ]
  },
  {
   "cell_type": "code",
   "execution_count": null,
   "metadata": {
    "deletable": false,
    "nbgrader": {
     "checksum": "27eb27ec7a3347530174f7047288a881",
     "grade": false,
     "grade_id": "cell-2ecd9a4076abd8f0",
     "locked": false,
     "schema_version": 1,
     "solution": true
    }
   },
   "outputs": [],
   "source": [
    "import numpy as np\n",
    "import re\n",
    "import pandas as pd\n",
    "def answer_twelve():\n",
    "        Energy= pd.read_excel(\"assets/Energy Indicators.xls\", sheet_name = \"Energy\")\n",
    "        Energy=Energy.drop(Energy.columns[[0, 1]], axis='columns')  #elimino columnas por su indice 0 y 1.\n",
    "        Energy=Energy.drop(range(0,17,1), axis=0)                   #eliino rango de filas 0 a 17 (header)\n",
    "        Energy=Energy.drop(range(244,282,1), axis=0)                #eliino rango de filas 244 a 282 (footer)\n",
    "        Energy.columns = ['Country', 'Energy Supply', 'Energy Supply per Capita', '% Renewable'] # Renombro columnas\n",
    "        listaener=[]\n",
    "        for k in Energy.columns:\n",
    "            str(k).strip()\n",
    "            listaener.append(k)\n",
    "        Energy.set_axis(listaener, axis=1, inplace=True)\n",
    "        Energy[Energy == '...'] = np.nan                            #relleno con NaN donde haya puntos (...)\n",
    "        Energy['Country'].replace('[\\d*]','', regex=True, inplace=True)  #reemplazar con vacio '' donde cadena de numeros\n",
    "        Energy['Country'].replace('\\(.*\\)','', regex=True, inplace=True) #reemplazar con vacio '' donde cadena de numeros ()\n",
    "        Energy['Country']=Energy['Country'].str.rstrip()            #elimino espacios que sobran al fin de la cadena\n",
    "        Energy['Country'].replace({'Republic of Korea': 'South Korea', 'United States of America': 'United States',\n",
    "        'United Kingdom of Great Britain and Northern Ireland': 'United Kingdom',\n",
    "        'China, Hong Kong Special Administrative Region': 'Hong Kong'}, inplace=True) #reemplazo nombres\n",
    "        Energy['Energy Supply']=Energy['Energy Supply']*1000000     #paso de peta a giga joules\n",
    "        Energy=Energy.set_index('Country')\n",
    "        # print(Energy)\n",
    "        # print(len(Energy)) #227\n",
    "\n",
    "        GDP= pd.read_csv('assets/world_bank.csv', header=None, skiprows=4) #elimino header y las 4 priemras filas\n",
    "        GDP[0]=GDP[0].str.strip()                                   #remuevo espacios de la columna 0\n",
    "        axislist=[]\n",
    "        for x in GDP.iloc[0]:                                       #creo lista con los nombres de las cabeceras\n",
    "            axislist.append(x)\n",
    "        for k in range (4,len(axislist),1):\n",
    "            axislist[k]=str(int(axislist[k]))\n",
    "        GDP.drop([0],axis=0,inplace=True)                           #elimino la fila 0\n",
    "        GDP.set_axis(axislist, axis=1, inplace=True)                #coloco lista como nuevo axis\n",
    "        GDP.rename(columns={'Country Name':'Country'}, inplace=True)#cambio nombre de cabecera\n",
    "        GDP['Country'].replace({\"Korea, Rep.\" : \"South Korea\", \"Iran, Islamic Rep.\": \"Iran\", \"Hong Kong SAR, China\": \"Hong Kong\"}, inplace=True)\n",
    "        GDP=GDP.set_index('Country')\n",
    "        # print(GDP)\n",
    "        # print(len(GDP)) #264\n",
    "\n",
    "        ScimEn= pd.read_excel(\"assets/scimagojr-3.xlsx\", sheet_name = \"Sheet1\")\n",
    "        ScimEn=ScimEn.set_index('Country')\n",
    "        # print(ScimEn)\n",
    "        # print(len(ScimEn)) #191\n",
    "\n",
    "        mergedf=pd.merge(ScimEn, Energy, how='outer', left_index=True, right_index=True)  #uno GDP Y Energy dataframes en un solo dataf: mergedf\n",
    "        df=pd.merge(mergedf, GDP, how='outer', left_index=True, right_index=True)   #uno mergedf con Scim dataframe= todos dataframes en una sola= df\n",
    "        df=df.drop(df.columns[10:59], axis='columns') #elimino columnas que no necesito\n",
    "        df.sort_values(by=['Rank'], inplace=True)\n",
    "        df=df.iloc[0:15]\n",
    "\n",
    "        lista=[]\n",
    "        for x in df.columns:                       #quita espacios de las columnas\n",
    "            str(x).strip()\n",
    "            lista.append(x)\n",
    "        df.set_axis(lista, axis=1, inplace=True)  #reestablece los nuevos nombres de columnas\n",
    "\n",
    "        ContinentDict  = {'China':'Asia',\n",
    "                      'United States':'North America',\n",
    "                      'Japan':'Asia',\n",
    "                      'United Kingdom':'Europe',\n",
    "                      'Russian Federation':'Europe',\n",
    "                      'Canada':'North America',\n",
    "                      'Germany':'Europe',\n",
    "                      'India':'Asia',\n",
    "                      'France':'Europe',\n",
    "                      'South Korea':'Asia',\n",
    "                      'Italy':'Europe',\n",
    "                      'Spain':'Europe',\n",
    "                      'Iran':'Asia',\n",
    "                      'Australia':'Australia',\n",
    "                      'Brazil':'South America'}\n",
    "        continents=pd.Series(ContinentDict)\n",
    "        df['Continent']=continents\n",
    "        list_continents=continents.unique()\n",
    "        list_continents.sort()               #lista continentes\n",
    "\n",
    "\n",
    "        df.reset_index(inplace = True)\n",
    "        df.set_index(['Continent','Country'], inplace=True)\n",
    "        df.sort_values(by=['Continent'], inplace=True)\n",
    "\n",
    "        print(df)\n",
    "        return(answer_twelve)\n",
    "answer_twelve()\n"
   ]
  },
  {
   "cell_type": "code",
   "execution_count": null,
   "metadata": {
    "deletable": false,
    "editable": false,
    "nbgrader": {
     "checksum": "79ed0cf577c7941dc357efd8bf1c5d26",
     "grade": true,
     "grade_id": "cell-6c665602d6babab9",
     "locked": true,
     "points": 6.66,
     "schema_version": 1,
     "solution": false
    }
   },
   "outputs": [],
   "source": [
    "assert type(answer_twelve()) == pd.Series, \"Q12: You should return a Series!\"\n",
    "\n",
    "assert len(answer_twelve()) == 9, \"Q12: Wrong result numbers!\"\n"
   ]
  },
  {
   "cell_type": "markdown",
   "metadata": {
    "deletable": false,
    "editable": false,
    "nbgrader": {
     "checksum": "bdfd9b1bb897304b6337fdc47a05967c",
     "grade": false,
     "grade_id": "cell-4209a10d8f208739",
     "locked": true,
     "schema_version": 1,
     "solution": false
    }
   },
   "source": [
    "### Question 13\n",
    "Convert the Population Estimate series to a string with thousands separator (using commas). Use all significant digits (do not round the results).\n",
    "\n",
    "e.g. 12345678.90 -> 12,345,678.90\n",
    "\n",
    "*This function should return a series `PopEst` whose index is the country name and whose values are the population estimate string*"
   ]
  },
  {
   "cell_type": "code",
   "execution_count": null,
   "metadata": {
    "deletable": false,
    "nbgrader": {
     "checksum": "1efd09964334b7d6100d81d4b3ead3e9",
     "grade": false,
     "grade_id": "cell-58eb0ee0921d93fb",
     "locked": false,
     "schema_version": 1,
     "solution": true
    }
   },
   "outputs": [],
   "source": [
    "def answer_thirteen():\n",
    "    # YOUR CODE HERE\n",
    "    raise NotImplementedError()"
   ]
  },
  {
   "cell_type": "code",
   "execution_count": null,
   "metadata": {
    "deletable": false,
    "editable": false,
    "nbgrader": {
     "checksum": "e014781df77c7edab2a181d2d943be8f",
     "grade": true,
     "grade_id": "cell-10fee7228cf973f6",
     "locked": true,
     "points": 6.74,
     "schema_version": 1,
     "solution": false
    }
   },
   "outputs": [],
   "source": [
    "assert type(answer_thirteen()) == pd.Series, \"Q13: You should return a Series!\"\n",
    "\n",
    "assert len(answer_thirteen()) == 15, \"Q13: Wrong result numbers!\"\n"
   ]
  },
  {
   "cell_type": "markdown",
   "metadata": {
    "deletable": false,
    "editable": false,
    "nbgrader": {
     "checksum": "61562b9b667bd5efbcec0dcd7becbfaa",
     "grade": false,
     "grade_id": "cell-998b62d4f390ef15",
     "locked": true,
     "schema_version": 1,
     "solution": false
    }
   },
   "source": [
    "### Optional\n",
    "\n",
    "Use the built in function `plot_optional()` to see an example visualization."
   ]
  },
  {
   "cell_type": "code",
   "execution_count": null,
   "metadata": {
    "deletable": false,
    "editable": false,
    "nbgrader": {
     "checksum": "479786c97cb5f34d07231c6d7c602a47",
     "grade": false,
     "grade_id": "cell-741fd55ea57cd40a",
     "locked": true,
     "schema_version": 1,
     "solution": false
    }
   },
   "outputs": [],
   "source": [
    "def plot_optional():\n",
    "    import matplotlib as plt\n",
    "    %matplotlib inline\n",
    "    Top15 = answer_one()\n",
    "    ax = Top15.plot(x='Rank', y='% Renewable', kind='scatter', \n",
    "                    c=['#e41a1c','#377eb8','#e41a1c','#4daf4a','#4daf4a','#377eb8','#4daf4a','#e41a1c',\n",
    "                       '#4daf4a','#e41a1c','#4daf4a','#4daf4a','#e41a1c','#dede00','#ff7f00'], \n",
    "                    xticks=range(1,16), s=6*Top15['2014']/10**10, alpha=.75, figsize=[16,6]);\n",
    "\n",
    "    for i, txt in enumerate(Top15.index):\n",
    "        ax.annotate(txt, [Top15['Rank'][i], Top15['% Renewable'][i]], ha='center')\n",
    "\n",
    "    print(\"This is an example of a visualization that can be created to help understand the data. \\\n",
    "This is a bubble chart showing % Renewable vs. Rank. The size of the bubble corresponds to the countries' \\\n",
    "2014 GDP, and the color corresponds to the continent.\")"
   ]
  }
 ],
 "metadata": {
  "anaconda-cloud": {},
  "coursera": {
   "schema_names": [
    "mooc_adswpy_1_v2_assignment3"
   ]
  },
  "kernelspec": {
   "display_name": "Python 3",
   "language": "python",
   "name": "python3"
  },
  "language_info": {
   "codemirror_mode": {
    "name": "ipython",
    "version": 3
   },
   "file_extension": ".py",
   "mimetype": "text/x-python",
   "name": "python",
   "nbconvert_exporter": "python",
   "pygments_lexer": "ipython3",
   "version": "3.7.3"
  }
 },
 "nbformat": 4,
 "nbformat_minor": 4
}
